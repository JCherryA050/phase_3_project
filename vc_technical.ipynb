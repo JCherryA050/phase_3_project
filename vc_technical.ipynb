{
 "cells": [
  {
   "cell_type": "markdown",
   "metadata": {},
   "source": [
    "# Title of the Analysis\n",
    "\n",
    "**Authors:** "
   ]
  },
  {
   "cell_type": "markdown",
   "metadata": {},
   "source": [
    "## Overview\n",
    "\n",
    "This is where an overview of the problem statement and a breif description of the analysis would go."
   ]
  },
  {
   "cell_type": "markdown",
   "metadata": {},
   "source": [
    "## Business Problem\n",
    "\n",
    "Explain the business problem and include relevant sources to fully describe what the problem is, how it can be solved using models, and what is trying to be determined by the models. include background on the issue and related studies."
   ]
  },
  {
   "cell_type": "markdown",
   "metadata": {},
   "source": [
    "## Data Understanding\n",
    "\n",
    "Describe where the data came from and how it relates to the business problem above. Give links to the data, a table with the relevant features and descriptions and links to other studies that give more information on the data set itself."
   ]
  },
  {
   "cell_type": "markdown",
   "metadata": {},
   "source": [
    "### Importing Packages and Loading the Datasets"
   ]
  },
  {
   "cell_type": "code",
   "execution_count": 385,
   "metadata": {},
   "outputs": [],
   "source": [
    "#Import standard packages for data engineering and visualization\n",
    "import pandas as pd\n",
    "import numpy as np\n",
    "import seaborn as sns\n",
    "import matplotlib as mpl\n",
    "import matplotlib.pyplot as plt\n",
    "%matplotlib inline\n",
    "from datetime import date, datetime\n",
    "\n",
    "#import packages to support geo visuals\n",
    "import folium\n",
    "from folium.plugins import HeatMap\n",
    "import json\n",
    "\n",
    "#Import packages to perform linear regression modeling and preprocessing tools\n",
    "import statsmodels.api as sm\n",
    "import scipy.stats as stats\n",
    "from statsmodels.formula.api import ols\n",
    "\n",
    "from sklearn.linear_model import LinearRegression, LogisticRegression\n",
    "from sklearn.impute import SimpleImputer\n",
    "from sklearn.preprocessing import OrdinalEncoder, OneHotEncoder, PolynomialFeatures, StandardScaler\n",
    "from sklearn.feature_selection import RFE\n",
    "from sklearn.neighbors import KNeighborsClassifier, KNeighborsRegressor\n",
    "from sklearn.tree import DecisionTreeClassifier, DecisionTreeRegressor\n",
    "from sklearn.metrics import precision_score, recall_score, accuracy_score, f1_score, confusion_matrix, plot_roc_curve, classification_report, plot_confusion_matrix\n",
    "from sklearn.model_selection import train_test_split, GridSearchCV, cross_val_score, RandomizedSearchCV\n",
    "\n",
    "from sklearn.preprocessing import OneHotEncoder, StandardScaler\n",
    "from sklearn.impute import SimpleImputer\n",
    "from sklearn.pipeline import Pipeline\n",
    "from sklearn.compose import ColumnTransformer\n",
    "\n",
    "#Import local functions from src/\n",
    "import sys\n",
    "sys.path.insert(0, 'src/')\n",
    "\n",
    "#Ignore warnings in cells\n",
    "import warnings\n",
    "warnings.filterwarnings('ignore')\n",
    "\n",
    "pd.set_option('display.max_columns', None)"
   ]
  },
  {
   "cell_type": "code",
   "execution_count": 386,
   "metadata": {},
   "outputs": [],
   "source": [
    "# Import all related data sets\n",
    "\n",
    "X = pd.read_csv('data/water_well_training_values.csv')\n",
    "y = pd.read_csv('data/water_well_training_labels.csv')\n",
    "df = pd.merge(y,X)"
   ]
  },
  {
   "cell_type": "code",
   "execution_count": 387,
   "metadata": {},
   "outputs": [
    {
     "name": "stdout",
     "output_type": "stream",
     "text": [
      "<class 'pandas.core.frame.DataFrame'>\n",
      "Int64Index: 59400 entries, 0 to 59399\n",
      "Data columns (total 41 columns):\n",
      " #   Column                 Non-Null Count  Dtype  \n",
      "---  ------                 --------------  -----  \n",
      " 0   id                     59400 non-null  int64  \n",
      " 1   status_group           59400 non-null  object \n",
      " 2   amount_tsh             59400 non-null  float64\n",
      " 3   date_recorded          59400 non-null  object \n",
      " 4   funder                 55765 non-null  object \n",
      " 5   gps_height             59400 non-null  int64  \n",
      " 6   installer              55745 non-null  object \n",
      " 7   longitude              59400 non-null  float64\n",
      " 8   latitude               59400 non-null  float64\n",
      " 9   wpt_name               59400 non-null  object \n",
      " 10  num_private            59400 non-null  int64  \n",
      " 11  basin                  59400 non-null  object \n",
      " 12  subvillage             59029 non-null  object \n",
      " 13  region                 59400 non-null  object \n",
      " 14  region_code            59400 non-null  int64  \n",
      " 15  district_code          59400 non-null  int64  \n",
      " 16  lga                    59400 non-null  object \n",
      " 17  ward                   59400 non-null  object \n",
      " 18  population             59400 non-null  int64  \n",
      " 19  public_meeting         56066 non-null  object \n",
      " 20  recorded_by            59400 non-null  object \n",
      " 21  scheme_management      55523 non-null  object \n",
      " 22  scheme_name            31234 non-null  object \n",
      " 23  permit                 56344 non-null  object \n",
      " 24  construction_year      59400 non-null  int64  \n",
      " 25  extraction_type        59400 non-null  object \n",
      " 26  extraction_type_group  59400 non-null  object \n",
      " 27  extraction_type_class  59400 non-null  object \n",
      " 28  management             59400 non-null  object \n",
      " 29  management_group       59400 non-null  object \n",
      " 30  payment                59400 non-null  object \n",
      " 31  payment_type           59400 non-null  object \n",
      " 32  water_quality          59400 non-null  object \n",
      " 33  quality_group          59400 non-null  object \n",
      " 34  quantity               59400 non-null  object \n",
      " 35  quantity_group         59400 non-null  object \n",
      " 36  source                 59400 non-null  object \n",
      " 37  source_type            59400 non-null  object \n",
      " 38  source_class           59400 non-null  object \n",
      " 39  waterpoint_type        59400 non-null  object \n",
      " 40  waterpoint_type_group  59400 non-null  object \n",
      "dtypes: float64(3), int64(7), object(31)\n",
      "memory usage: 19.0+ MB\n"
     ]
    }
   ],
   "source": [
    "df.info()"
   ]
  },
  {
   "cell_type": "markdown",
   "metadata": {},
   "source": [
    "### Get an understanding of the data"
   ]
  },
  {
   "cell_type": "markdown",
   "metadata": {},
   "source": [
    "Thurough description of the key features, data types, possible problems that need to be solved with cleaning and some suggestions of feature engineering."
   ]
  },
  {
   "cell_type": "markdown",
   "metadata": {},
   "source": [
    "## Data Preparation"
   ]
  },
  {
   "cell_type": "code",
   "execution_count": 388,
   "metadata": {
    "scrolled": true
   },
   "outputs": [
    {
     "data": {
      "text/html": [
       "<div>\n",
       "<style scoped>\n",
       "    .dataframe tbody tr th:only-of-type {\n",
       "        vertical-align: middle;\n",
       "    }\n",
       "\n",
       "    .dataframe tbody tr th {\n",
       "        vertical-align: top;\n",
       "    }\n",
       "\n",
       "    .dataframe thead th {\n",
       "        text-align: right;\n",
       "    }\n",
       "</style>\n",
       "<table border=\"1\" class=\"dataframe\">\n",
       "  <thead>\n",
       "    <tr style=\"text-align: right;\">\n",
       "      <th></th>\n",
       "      <th>id</th>\n",
       "      <th>status_group</th>\n",
       "      <th>amount_tsh</th>\n",
       "      <th>date_recorded</th>\n",
       "      <th>funder</th>\n",
       "      <th>gps_height</th>\n",
       "      <th>installer</th>\n",
       "      <th>longitude</th>\n",
       "      <th>latitude</th>\n",
       "      <th>wpt_name</th>\n",
       "      <th>num_private</th>\n",
       "      <th>basin</th>\n",
       "      <th>subvillage</th>\n",
       "      <th>region</th>\n",
       "      <th>region_code</th>\n",
       "      <th>district_code</th>\n",
       "      <th>lga</th>\n",
       "      <th>ward</th>\n",
       "      <th>population</th>\n",
       "      <th>public_meeting</th>\n",
       "      <th>recorded_by</th>\n",
       "      <th>scheme_management</th>\n",
       "      <th>scheme_name</th>\n",
       "      <th>permit</th>\n",
       "      <th>construction_year</th>\n",
       "      <th>extraction_type</th>\n",
       "      <th>extraction_type_group</th>\n",
       "      <th>extraction_type_class</th>\n",
       "      <th>management</th>\n",
       "      <th>management_group</th>\n",
       "      <th>payment</th>\n",
       "      <th>payment_type</th>\n",
       "      <th>water_quality</th>\n",
       "      <th>quality_group</th>\n",
       "      <th>quantity</th>\n",
       "      <th>quantity_group</th>\n",
       "      <th>source</th>\n",
       "      <th>source_type</th>\n",
       "      <th>source_class</th>\n",
       "      <th>waterpoint_type</th>\n",
       "      <th>waterpoint_type_group</th>\n",
       "    </tr>\n",
       "  </thead>\n",
       "  <tbody>\n",
       "  </tbody>\n",
       "</table>\n",
       "</div>"
      ],
      "text/plain": [
       "Empty DataFrame\n",
       "Columns: [id, status_group, amount_tsh, date_recorded, funder, gps_height, installer, longitude, latitude, wpt_name, num_private, basin, subvillage, region, region_code, district_code, lga, ward, population, public_meeting, recorded_by, scheme_management, scheme_name, permit, construction_year, extraction_type, extraction_type_group, extraction_type_class, management, management_group, payment, payment_type, water_quality, quality_group, quantity, quantity_group, source, source_type, source_class, waterpoint_type, waterpoint_type_group]\n",
       "Index: []"
      ]
     },
     "execution_count": 388,
     "metadata": {},
     "output_type": "execute_result"
    }
   ],
   "source": [
    "#check for duplicates in the data\n",
    "df[df.duplicated()]"
   ]
  },
  {
   "cell_type": "markdown",
   "metadata": {},
   "source": [
    "We found no duplicate rows."
   ]
  },
  {
   "cell_type": "markdown",
   "metadata": {},
   "source": [
    "### Dealing with missing values "
   ]
  },
  {
   "cell_type": "code",
   "execution_count": 389,
   "metadata": {},
   "outputs": [],
   "source": [
    "# drop id column\n",
    "df.drop('id',axis=1,inplace=True)"
   ]
  },
  {
   "cell_type": "code",
   "execution_count": 390,
   "metadata": {},
   "outputs": [
    {
     "data": {
      "text/plain": [
       "status_group                 0\n",
       "amount_tsh                   0\n",
       "date_recorded                0\n",
       "funder                    3635\n",
       "gps_height                   0\n",
       "installer                 3655\n",
       "longitude                    0\n",
       "latitude                     0\n",
       "wpt_name                     0\n",
       "num_private                  0\n",
       "basin                        0\n",
       "subvillage                 371\n",
       "region                       0\n",
       "region_code                  0\n",
       "district_code                0\n",
       "lga                          0\n",
       "ward                         0\n",
       "population                   0\n",
       "public_meeting            3334\n",
       "recorded_by                  0\n",
       "scheme_management         3877\n",
       "scheme_name              28166\n",
       "permit                    3056\n",
       "construction_year            0\n",
       "extraction_type              0\n",
       "extraction_type_group        0\n",
       "extraction_type_class        0\n",
       "management                   0\n",
       "management_group             0\n",
       "payment                      0\n",
       "payment_type                 0\n",
       "water_quality                0\n",
       "quality_group                0\n",
       "quantity                     0\n",
       "quantity_group               0\n",
       "source                       0\n",
       "source_type                  0\n",
       "source_class                 0\n",
       "waterpoint_type              0\n",
       "waterpoint_type_group        0\n",
       "dtype: int64"
      ]
     },
     "execution_count": 390,
     "metadata": {},
     "output_type": "execute_result"
    }
   ],
   "source": [
    "# Confirm the columns with missing values\n",
    "df.isna().sum()"
   ]
  },
  {
   "cell_type": "code",
   "execution_count": 391,
   "metadata": {},
   "outputs": [
    {
     "data": {
      "text/plain": [
       "Government Of Tanzania    9084\n",
       "Danida                    3114\n",
       "Hesawa                    2202\n",
       "Rwssp                     1374\n",
       "World Bank                1349\n",
       "                          ... \n",
       "Songa Hospi                  1\n",
       "Robert Mosi                  1\n",
       "Staford Higima               1\n",
       "Kwa Ditriki Cho              1\n",
       "Sharifa Athuman              1\n",
       "Name: funder, Length: 1897, dtype: int64"
      ]
     },
     "execution_count": 391,
     "metadata": {},
     "output_type": "execute_result"
    }
   ],
   "source": [
    "# Fill NaN values according to appropriate method\n",
    "df['funder'].value_counts()"
   ]
  },
  {
   "cell_type": "code",
   "execution_count": 392,
   "metadata": {},
   "outputs": [],
   "source": [
    "df['funder'].fillna(value='missing',inplace =True)"
   ]
  },
  {
   "cell_type": "code",
   "execution_count": 393,
   "metadata": {},
   "outputs": [
    {
     "data": {
      "text/plain": [
       "0"
      ]
     },
     "execution_count": 393,
     "metadata": {},
     "output_type": "execute_result"
    }
   ],
   "source": [
    "df['funder'].isna().sum()"
   ]
  },
  {
   "cell_type": "code",
   "execution_count": 394,
   "metadata": {},
   "outputs": [
    {
     "data": {
      "text/plain": [
       "DWE                        17402\n",
       "Government                  1825\n",
       "RWE                         1206\n",
       "Commu                       1060\n",
       "DANIDA                      1050\n",
       "                           ...  \n",
       "CHINA HENAN CONSTUCTION        1\n",
       "Robert Mosi                    1\n",
       "AQUA BLUES ANGELS              1\n",
       "mwita                          1\n",
       "Robert kampala                 1\n",
       "Name: installer, Length: 2145, dtype: int64"
      ]
     },
     "execution_count": 394,
     "metadata": {},
     "output_type": "execute_result"
    }
   ],
   "source": [
    "df['installer'].value_counts()"
   ]
  },
  {
   "cell_type": "code",
   "execution_count": 395,
   "metadata": {},
   "outputs": [],
   "source": [
    "df['installer'].fillna(value='missing',inplace=True)"
   ]
  },
  {
   "cell_type": "code",
   "execution_count": 396,
   "metadata": {},
   "outputs": [
    {
     "data": {
      "text/plain": [
       "Madukani      508\n",
       "Shuleni       506\n",
       "Majengo       502\n",
       "Kati          373\n",
       "Mtakuja       262\n",
       "             ... \n",
       "Kipandeni       1\n",
       "Nyamande B      1\n",
       "Masaladi        1\n",
       "Ingwagwele      1\n",
       "Kiguruka        1\n",
       "Name: subvillage, Length: 19287, dtype: int64"
      ]
     },
     "execution_count": 396,
     "metadata": {},
     "output_type": "execute_result"
    }
   ],
   "source": [
    "df['subvillage'].value_counts()"
   ]
  },
  {
   "cell_type": "code",
   "execution_count": 397,
   "metadata": {},
   "outputs": [],
   "source": [
    "df['subvillage'].fillna(value='none',inplace=True)"
   ]
  },
  {
   "cell_type": "code",
   "execution_count": 398,
   "metadata": {},
   "outputs": [
    {
     "data": {
      "text/plain": [
       "True     51011\n",
       "False     5055\n",
       "Name: public_meeting, dtype: int64"
      ]
     },
     "execution_count": 398,
     "metadata": {},
     "output_type": "execute_result"
    }
   ],
   "source": [
    "df['public_meeting'].value_counts()"
   ]
  },
  {
   "cell_type": "code",
   "execution_count": 399,
   "metadata": {},
   "outputs": [],
   "source": [
    "df['public_meeting'].fillna(value=False,inplace=True)"
   ]
  },
  {
   "cell_type": "code",
   "execution_count": 400,
   "metadata": {},
   "outputs": [
    {
     "data": {
      "text/plain": [
       "True     51011\n",
       "False     8389\n",
       "Name: public_meeting, dtype: int64"
      ]
     },
     "execution_count": 400,
     "metadata": {},
     "output_type": "execute_result"
    }
   ],
   "source": [
    "df['public_meeting'].value_counts()"
   ]
  },
  {
   "cell_type": "code",
   "execution_count": 401,
   "metadata": {},
   "outputs": [
    {
     "data": {
      "text/plain": [
       "VWC                 36793\n",
       "WUG                  5206\n",
       "Water authority      3153\n",
       "WUA                  2883\n",
       "Water Board          2748\n",
       "Parastatal           1680\n",
       "Private operator     1063\n",
       "Company              1061\n",
       "Other                 766\n",
       "SWC                    97\n",
       "Trust                  72\n",
       "None                    1\n",
       "Name: scheme_management, dtype: int64"
      ]
     },
     "execution_count": 401,
     "metadata": {},
     "output_type": "execute_result"
    }
   ],
   "source": [
    "df['scheme_management'].value_counts()"
   ]
  },
  {
   "cell_type": "code",
   "execution_count": 402,
   "metadata": {},
   "outputs": [],
   "source": [
    "df['scheme_management'].fillna(value='None',inplace=True)"
   ]
  },
  {
   "cell_type": "code",
   "execution_count": 403,
   "metadata": {},
   "outputs": [
    {
     "data": {
      "text/plain": [
       "K                         682\n",
       "None                      644\n",
       "Borehole                  546\n",
       "Chalinze wate             405\n",
       "M                         400\n",
       "                         ... \n",
       "New keni Awater supply      1\n",
       "Kipatimu water supply       1\n",
       "Solo                        1\n",
       "Oljoro water pipelines      1\n",
       "Ikola water suply           1\n",
       "Name: scheme_name, Length: 2696, dtype: int64"
      ]
     },
     "execution_count": 403,
     "metadata": {},
     "output_type": "execute_result"
    }
   ],
   "source": [
    "df['scheme_name'].value_counts()"
   ]
  },
  {
   "cell_type": "code",
   "execution_count": 404,
   "metadata": {},
   "outputs": [],
   "source": [
    "df.drop('scheme_name',axis=1,inplace=True)"
   ]
  },
  {
   "cell_type": "code",
   "execution_count": 405,
   "metadata": {},
   "outputs": [
    {
     "data": {
      "text/plain": [
       "True     38852\n",
       "False    17492\n",
       "Name: permit, dtype: int64"
      ]
     },
     "execution_count": 405,
     "metadata": {},
     "output_type": "execute_result"
    }
   ],
   "source": [
    "df['permit'].value_counts()"
   ]
  },
  {
   "cell_type": "code",
   "execution_count": 406,
   "metadata": {},
   "outputs": [],
   "source": [
    "df['permit'].fillna(value=False,inplace=True)"
   ]
  },
  {
   "cell_type": "code",
   "execution_count": 407,
   "metadata": {},
   "outputs": [
    {
     "data": {
      "text/plain": [
       "status_group             0\n",
       "amount_tsh               0\n",
       "date_recorded            0\n",
       "funder                   0\n",
       "gps_height               0\n",
       "installer                0\n",
       "longitude                0\n",
       "latitude                 0\n",
       "wpt_name                 0\n",
       "num_private              0\n",
       "basin                    0\n",
       "subvillage               0\n",
       "region                   0\n",
       "region_code              0\n",
       "district_code            0\n",
       "lga                      0\n",
       "ward                     0\n",
       "population               0\n",
       "public_meeting           0\n",
       "recorded_by              0\n",
       "scheme_management        0\n",
       "permit                   0\n",
       "construction_year        0\n",
       "extraction_type          0\n",
       "extraction_type_group    0\n",
       "extraction_type_class    0\n",
       "management               0\n",
       "management_group         0\n",
       "payment                  0\n",
       "payment_type             0\n",
       "water_quality            0\n",
       "quality_group            0\n",
       "quantity                 0\n",
       "quantity_group           0\n",
       "source                   0\n",
       "source_type              0\n",
       "source_class             0\n",
       "waterpoint_type          0\n",
       "waterpoint_type_group    0\n",
       "dtype: int64"
      ]
     },
     "execution_count": 407,
     "metadata": {},
     "output_type": "execute_result"
    }
   ],
   "source": [
    "df.isna().sum()"
   ]
  },
  {
   "cell_type": "markdown",
   "metadata": {},
   "source": [
    "Explanation of why NaN values were filled using specific method"
   ]
  },
  {
   "cell_type": "code",
   "execution_count": 408,
   "metadata": {},
   "outputs": [],
   "source": [
    "X_clean = df.drop('status_group',axis=1)"
   ]
  },
  {
   "cell_type": "code",
   "execution_count": 409,
   "metadata": {},
   "outputs": [
    {
     "data": {
      "text/plain": [
       "amount_tsh               0\n",
       "date_recorded            0\n",
       "funder                   0\n",
       "gps_height               0\n",
       "installer                0\n",
       "longitude                0\n",
       "latitude                 0\n",
       "wpt_name                 0\n",
       "num_private              0\n",
       "basin                    0\n",
       "subvillage               0\n",
       "region                   0\n",
       "region_code              0\n",
       "district_code            0\n",
       "lga                      0\n",
       "ward                     0\n",
       "population               0\n",
       "public_meeting           0\n",
       "recorded_by              0\n",
       "scheme_management        0\n",
       "permit                   0\n",
       "construction_year        0\n",
       "extraction_type          0\n",
       "extraction_type_group    0\n",
       "extraction_type_class    0\n",
       "management               0\n",
       "management_group         0\n",
       "payment                  0\n",
       "payment_type             0\n",
       "water_quality            0\n",
       "quality_group            0\n",
       "quantity                 0\n",
       "quantity_group           0\n",
       "source                   0\n",
       "source_type              0\n",
       "source_class             0\n",
       "waterpoint_type          0\n",
       "waterpoint_type_group    0\n",
       "dtype: int64"
      ]
     },
     "execution_count": 409,
     "metadata": {},
     "output_type": "execute_result"
    }
   ],
   "source": [
    "X_clean.isna().sum()"
   ]
  },
  {
   "cell_type": "markdown",
   "metadata": {},
   "source": [
    "### Converting Data Types"
   ]
  },
  {
   "cell_type": "code",
   "execution_count": 410,
   "metadata": {},
   "outputs": [
    {
     "name": "stdout",
     "output_type": "stream",
     "text": [
      "<class 'pandas.core.frame.DataFrame'>\n",
      "Int64Index: 59400 entries, 0 to 59399\n",
      "Data columns (total 39 columns):\n",
      " #   Column                 Non-Null Count  Dtype  \n",
      "---  ------                 --------------  -----  \n",
      " 0   status_group           59400 non-null  object \n",
      " 1   amount_tsh             59400 non-null  float64\n",
      " 2   date_recorded          59400 non-null  object \n",
      " 3   funder                 59400 non-null  object \n",
      " 4   gps_height             59400 non-null  int64  \n",
      " 5   installer              59400 non-null  object \n",
      " 6   longitude              59400 non-null  float64\n",
      " 7   latitude               59400 non-null  float64\n",
      " 8   wpt_name               59400 non-null  object \n",
      " 9   num_private            59400 non-null  int64  \n",
      " 10  basin                  59400 non-null  object \n",
      " 11  subvillage             59400 non-null  object \n",
      " 12  region                 59400 non-null  object \n",
      " 13  region_code            59400 non-null  int64  \n",
      " 14  district_code          59400 non-null  int64  \n",
      " 15  lga                    59400 non-null  object \n",
      " 16  ward                   59400 non-null  object \n",
      " 17  population             59400 non-null  int64  \n",
      " 18  public_meeting         59400 non-null  bool   \n",
      " 19  recorded_by            59400 non-null  object \n",
      " 20  scheme_management      59400 non-null  object \n",
      " 21  permit                 59400 non-null  bool   \n",
      " 22  construction_year      59400 non-null  int64  \n",
      " 23  extraction_type        59400 non-null  object \n",
      " 24  extraction_type_group  59400 non-null  object \n",
      " 25  extraction_type_class  59400 non-null  object \n",
      " 26  management             59400 non-null  object \n",
      " 27  management_group       59400 non-null  object \n",
      " 28  payment                59400 non-null  object \n",
      " 29  payment_type           59400 non-null  object \n",
      " 30  water_quality          59400 non-null  object \n",
      " 31  quality_group          59400 non-null  object \n",
      " 32  quantity               59400 non-null  object \n",
      " 33  quantity_group         59400 non-null  object \n",
      " 34  source                 59400 non-null  object \n",
      " 35  source_type            59400 non-null  object \n",
      " 36  source_class           59400 non-null  object \n",
      " 37  waterpoint_type        59400 non-null  object \n",
      " 38  waterpoint_type_group  59400 non-null  object \n",
      "dtypes: bool(2), float64(3), int64(6), object(28)\n",
      "memory usage: 17.3+ MB\n"
     ]
    }
   ],
   "source": [
    "# Convert binary data to int type\n",
    "df.info()"
   ]
  },
  {
   "cell_type": "markdown",
   "metadata": {},
   "source": [
    "- date_recorded: object to datetime\n",
    "- num_private: unkown feature\n",
    "- "
   ]
  },
  {
   "cell_type": "code",
   "execution_count": 411,
   "metadata": {},
   "outputs": [
    {
     "data": {
      "text/plain": [
       "gravity                      26780\n",
       "nira/tanira                   8154\n",
       "other                         6430\n",
       "submersible                   4764\n",
       "swn 80                        3670\n",
       "mono                          2865\n",
       "india mark ii                 2400\n",
       "afridev                       1770\n",
       "ksb                           1415\n",
       "other - rope pump              451\n",
       "other - swn 81                 229\n",
       "windmill                       117\n",
       "india mark iii                  98\n",
       "cemo                            90\n",
       "other - play pump               85\n",
       "walimi                          48\n",
       "climax                          32\n",
       "other - mkulima/shinyanga        2\n",
       "Name: extraction_type, dtype: int64"
      ]
     },
     "execution_count": 411,
     "metadata": {},
     "output_type": "execute_result"
    }
   ],
   "source": [
    "# Drop uneccesary columns\n",
    "df['extraction_type'].value_counts()"
   ]
  },
  {
   "cell_type": "code",
   "execution_count": 412,
   "metadata": {},
   "outputs": [
    {
     "data": {
      "text/plain": [
       "gravity         26780\n",
       "handpump        16456\n",
       "other            6430\n",
       "submersible      6179\n",
       "motorpump        2987\n",
       "rope pump         451\n",
       "wind-powered      117\n",
       "Name: extraction_type_class, dtype: int64"
      ]
     },
     "execution_count": 412,
     "metadata": {},
     "output_type": "execute_result"
    }
   ],
   "source": [
    "df['extraction_type_class'].value_counts()"
   ]
  },
  {
   "cell_type": "code",
   "execution_count": 413,
   "metadata": {},
   "outputs": [
    {
     "data": {
      "text/plain": [
       "gravity            26780\n",
       "nira/tanira         8154\n",
       "other               6430\n",
       "submersible         6179\n",
       "swn 80              3670\n",
       "mono                2865\n",
       "india mark ii       2400\n",
       "afridev             1770\n",
       "rope pump            451\n",
       "other handpump       364\n",
       "other motorpump      122\n",
       "wind-powered         117\n",
       "india mark iii        98\n",
       "Name: extraction_type_group, dtype: int64"
      ]
     },
     "execution_count": 413,
     "metadata": {},
     "output_type": "execute_result"
    }
   ],
   "source": [
    "df['extraction_type_group'].value_counts()"
   ]
  },
  {
   "cell_type": "markdown",
   "metadata": {},
   "source": [
    "We will not be using the ID column in exploratory analysis or modeling."
   ]
  },
  {
   "cell_type": "markdown",
   "metadata": {},
   "source": [
    "#### Dealing with outliers"
   ]
  },
  {
   "cell_type": "code",
   "execution_count": 414,
   "metadata": {},
   "outputs": [
    {
     "data": {
      "text/html": [
       "<div>\n",
       "<style scoped>\n",
       "    .dataframe tbody tr th:only-of-type {\n",
       "        vertical-align: middle;\n",
       "    }\n",
       "\n",
       "    .dataframe tbody tr th {\n",
       "        vertical-align: top;\n",
       "    }\n",
       "\n",
       "    .dataframe thead th {\n",
       "        text-align: right;\n",
       "    }\n",
       "</style>\n",
       "<table border=\"1\" class=\"dataframe\">\n",
       "  <thead>\n",
       "    <tr style=\"text-align: right;\">\n",
       "      <th></th>\n",
       "      <th>amount_tsh</th>\n",
       "      <th>gps_height</th>\n",
       "      <th>longitude</th>\n",
       "      <th>latitude</th>\n",
       "      <th>num_private</th>\n",
       "      <th>region_code</th>\n",
       "      <th>district_code</th>\n",
       "      <th>population</th>\n",
       "      <th>construction_year</th>\n",
       "    </tr>\n",
       "  </thead>\n",
       "  <tbody>\n",
       "    <tr>\n",
       "      <th>count</th>\n",
       "      <td>59400.000000</td>\n",
       "      <td>59400.000000</td>\n",
       "      <td>59400.000000</td>\n",
       "      <td>5.940000e+04</td>\n",
       "      <td>59400.000000</td>\n",
       "      <td>59400.000000</td>\n",
       "      <td>59400.000000</td>\n",
       "      <td>59400.000000</td>\n",
       "      <td>59400.000000</td>\n",
       "    </tr>\n",
       "    <tr>\n",
       "      <th>mean</th>\n",
       "      <td>317.650385</td>\n",
       "      <td>668.297239</td>\n",
       "      <td>34.077427</td>\n",
       "      <td>-5.706033e+00</td>\n",
       "      <td>0.474141</td>\n",
       "      <td>15.297003</td>\n",
       "      <td>5.629747</td>\n",
       "      <td>179.909983</td>\n",
       "      <td>1300.652475</td>\n",
       "    </tr>\n",
       "    <tr>\n",
       "      <th>std</th>\n",
       "      <td>2997.574558</td>\n",
       "      <td>693.116350</td>\n",
       "      <td>6.567432</td>\n",
       "      <td>2.946019e+00</td>\n",
       "      <td>12.236230</td>\n",
       "      <td>17.587406</td>\n",
       "      <td>9.633649</td>\n",
       "      <td>471.482176</td>\n",
       "      <td>951.620547</td>\n",
       "    </tr>\n",
       "    <tr>\n",
       "      <th>min</th>\n",
       "      <td>0.000000</td>\n",
       "      <td>-90.000000</td>\n",
       "      <td>0.000000</td>\n",
       "      <td>-1.164944e+01</td>\n",
       "      <td>0.000000</td>\n",
       "      <td>1.000000</td>\n",
       "      <td>0.000000</td>\n",
       "      <td>0.000000</td>\n",
       "      <td>0.000000</td>\n",
       "    </tr>\n",
       "    <tr>\n",
       "      <th>25%</th>\n",
       "      <td>0.000000</td>\n",
       "      <td>0.000000</td>\n",
       "      <td>33.090347</td>\n",
       "      <td>-8.540621e+00</td>\n",
       "      <td>0.000000</td>\n",
       "      <td>5.000000</td>\n",
       "      <td>2.000000</td>\n",
       "      <td>0.000000</td>\n",
       "      <td>0.000000</td>\n",
       "    </tr>\n",
       "    <tr>\n",
       "      <th>50%</th>\n",
       "      <td>0.000000</td>\n",
       "      <td>369.000000</td>\n",
       "      <td>34.908743</td>\n",
       "      <td>-5.021597e+00</td>\n",
       "      <td>0.000000</td>\n",
       "      <td>12.000000</td>\n",
       "      <td>3.000000</td>\n",
       "      <td>25.000000</td>\n",
       "      <td>1986.000000</td>\n",
       "    </tr>\n",
       "    <tr>\n",
       "      <th>75%</th>\n",
       "      <td>20.000000</td>\n",
       "      <td>1319.250000</td>\n",
       "      <td>37.178387</td>\n",
       "      <td>-3.326156e+00</td>\n",
       "      <td>0.000000</td>\n",
       "      <td>17.000000</td>\n",
       "      <td>5.000000</td>\n",
       "      <td>215.000000</td>\n",
       "      <td>2004.000000</td>\n",
       "    </tr>\n",
       "    <tr>\n",
       "      <th>max</th>\n",
       "      <td>350000.000000</td>\n",
       "      <td>2770.000000</td>\n",
       "      <td>40.345193</td>\n",
       "      <td>-2.000000e-08</td>\n",
       "      <td>1776.000000</td>\n",
       "      <td>99.000000</td>\n",
       "      <td>80.000000</td>\n",
       "      <td>30500.000000</td>\n",
       "      <td>2013.000000</td>\n",
       "    </tr>\n",
       "  </tbody>\n",
       "</table>\n",
       "</div>"
      ],
      "text/plain": [
       "          amount_tsh    gps_height     longitude      latitude   num_private  \\\n",
       "count   59400.000000  59400.000000  59400.000000  5.940000e+04  59400.000000   \n",
       "mean      317.650385    668.297239     34.077427 -5.706033e+00      0.474141   \n",
       "std      2997.574558    693.116350      6.567432  2.946019e+00     12.236230   \n",
       "min         0.000000    -90.000000      0.000000 -1.164944e+01      0.000000   \n",
       "25%         0.000000      0.000000     33.090347 -8.540621e+00      0.000000   \n",
       "50%         0.000000    369.000000     34.908743 -5.021597e+00      0.000000   \n",
       "75%        20.000000   1319.250000     37.178387 -3.326156e+00      0.000000   \n",
       "max    350000.000000   2770.000000     40.345193 -2.000000e-08   1776.000000   \n",
       "\n",
       "        region_code  district_code    population  construction_year  \n",
       "count  59400.000000   59400.000000  59400.000000       59400.000000  \n",
       "mean      15.297003       5.629747    179.909983        1300.652475  \n",
       "std       17.587406       9.633649    471.482176         951.620547  \n",
       "min        1.000000       0.000000      0.000000           0.000000  \n",
       "25%        5.000000       2.000000      0.000000           0.000000  \n",
       "50%       12.000000       3.000000     25.000000        1986.000000  \n",
       "75%       17.000000       5.000000    215.000000        2004.000000  \n",
       "max       99.000000      80.000000  30500.000000        2013.000000  "
      ]
     },
     "execution_count": 414,
     "metadata": {},
     "output_type": "execute_result"
    }
   ],
   "source": [
    "# Check for outliers\n",
    "df.describe()"
   ]
  },
  {
   "cell_type": "code",
   "execution_count": 415,
   "metadata": {},
   "outputs": [
    {
     "data": {
      "text/plain": [
       "functional                 32259\n",
       "non functional             22824\n",
       "functional needs repair     4317\n",
       "Name: status_group, dtype: int64"
      ]
     },
     "execution_count": 415,
     "metadata": {},
     "output_type": "execute_result"
    }
   ],
   "source": [
    "df['status_group'].value_counts()"
   ]
  },
  {
   "cell_type": "code",
   "execution_count": 416,
   "metadata": {
    "scrolled": true
   },
   "outputs": [],
   "source": [
    "stat_map = {'functional':2,'functional needs repair':1,'non functional':0}\n",
    "df['status_group'] = df['status_group'].map(stat_map)\n"
   ]
  },
  {
   "cell_type": "code",
   "execution_count": 417,
   "metadata": {},
   "outputs": [
    {
     "data": {
      "text/plain": [
       "2    32259\n",
       "0    22824\n",
       "1     4317\n",
       "Name: status_group, dtype: int64"
      ]
     },
     "execution_count": 417,
     "metadata": {},
     "output_type": "execute_result"
    }
   ],
   "source": [
    "df['status_group'].value_counts()"
   ]
  },
  {
   "cell_type": "markdown",
   "metadata": {},
   "source": [
    "Explanation of outliers, what makes them outliers and why they were dropped from the data. "
   ]
  },
  {
   "cell_type": "markdown",
   "metadata": {},
   "source": [
    "# Feature Engineering"
   ]
  },
  {
   "cell_type": "markdown",
   "metadata": {},
   "source": [
    "Describe some features that could be engineered from the data and discuss which engineered features would be used in what models."
   ]
  },
  {
   "cell_type": "code",
   "execution_count": 418,
   "metadata": {},
   "outputs": [],
   "source": [
    "# cutting down on unique value types in the data\n",
    "cat = X_clean.select_dtypes('object')"
   ]
  },
  {
   "cell_type": "code",
   "execution_count": 419,
   "metadata": {},
   "outputs": [],
   "source": [
    "cols = cat.columns\n",
    "X_clean[cols] = X_clean[cols].where(X_clean[cols].apply(lambda x: x.map(x.value_counts())) >= 50, 'other')"
   ]
  },
  {
   "cell_type": "code",
   "execution_count": 420,
   "metadata": {},
   "outputs": [
    {
     "data": {
      "text/html": [
       "<div>\n",
       "<style scoped>\n",
       "    .dataframe tbody tr th:only-of-type {\n",
       "        vertical-align: middle;\n",
       "    }\n",
       "\n",
       "    .dataframe tbody tr th {\n",
       "        vertical-align: top;\n",
       "    }\n",
       "\n",
       "    .dataframe thead th {\n",
       "        text-align: right;\n",
       "    }\n",
       "</style>\n",
       "<table border=\"1\" class=\"dataframe\">\n",
       "  <thead>\n",
       "    <tr style=\"text-align: right;\">\n",
       "      <th></th>\n",
       "      <th>amount_tsh</th>\n",
       "      <th>date_recorded</th>\n",
       "      <th>funder</th>\n",
       "      <th>gps_height</th>\n",
       "      <th>installer</th>\n",
       "      <th>longitude</th>\n",
       "      <th>latitude</th>\n",
       "      <th>wpt_name</th>\n",
       "      <th>num_private</th>\n",
       "      <th>basin</th>\n",
       "      <th>subvillage</th>\n",
       "      <th>region</th>\n",
       "      <th>region_code</th>\n",
       "      <th>district_code</th>\n",
       "      <th>lga</th>\n",
       "      <th>ward</th>\n",
       "      <th>population</th>\n",
       "      <th>public_meeting</th>\n",
       "      <th>recorded_by</th>\n",
       "      <th>scheme_management</th>\n",
       "      <th>permit</th>\n",
       "      <th>construction_year</th>\n",
       "      <th>extraction_type</th>\n",
       "      <th>extraction_type_group</th>\n",
       "      <th>extraction_type_class</th>\n",
       "      <th>management</th>\n",
       "      <th>management_group</th>\n",
       "      <th>payment</th>\n",
       "      <th>payment_type</th>\n",
       "      <th>water_quality</th>\n",
       "      <th>quality_group</th>\n",
       "      <th>quantity</th>\n",
       "      <th>quantity_group</th>\n",
       "      <th>source</th>\n",
       "      <th>source_type</th>\n",
       "      <th>source_class</th>\n",
       "      <th>waterpoint_type</th>\n",
       "      <th>waterpoint_type_group</th>\n",
       "    </tr>\n",
       "  </thead>\n",
       "  <tbody>\n",
       "    <tr>\n",
       "      <th>0</th>\n",
       "      <td>6000.0</td>\n",
       "      <td>2011-03-14</td>\n",
       "      <td>Roman</td>\n",
       "      <td>1390</td>\n",
       "      <td>Roman</td>\n",
       "      <td>34.938093</td>\n",
       "      <td>-9.856322</td>\n",
       "      <td>none</td>\n",
       "      <td>0</td>\n",
       "      <td>Lake Nyasa</td>\n",
       "      <td>other</td>\n",
       "      <td>Iringa</td>\n",
       "      <td>11</td>\n",
       "      <td>5</td>\n",
       "      <td>Ludewa</td>\n",
       "      <td>other</td>\n",
       "      <td>109</td>\n",
       "      <td>True</td>\n",
       "      <td>GeoData Consultants Ltd</td>\n",
       "      <td>VWC</td>\n",
       "      <td>False</td>\n",
       "      <td>1999</td>\n",
       "      <td>gravity</td>\n",
       "      <td>gravity</td>\n",
       "      <td>gravity</td>\n",
       "      <td>vwc</td>\n",
       "      <td>user-group</td>\n",
       "      <td>pay annually</td>\n",
       "      <td>annually</td>\n",
       "      <td>soft</td>\n",
       "      <td>good</td>\n",
       "      <td>enough</td>\n",
       "      <td>enough</td>\n",
       "      <td>spring</td>\n",
       "      <td>spring</td>\n",
       "      <td>groundwater</td>\n",
       "      <td>communal standpipe</td>\n",
       "      <td>communal standpipe</td>\n",
       "    </tr>\n",
       "    <tr>\n",
       "      <th>1</th>\n",
       "      <td>0.0</td>\n",
       "      <td>2013-03-06</td>\n",
       "      <td>Grumeti</td>\n",
       "      <td>1399</td>\n",
       "      <td>other</td>\n",
       "      <td>34.698766</td>\n",
       "      <td>-2.147466</td>\n",
       "      <td>Zahanati</td>\n",
       "      <td>0</td>\n",
       "      <td>Lake Victoria</td>\n",
       "      <td>other</td>\n",
       "      <td>Mara</td>\n",
       "      <td>20</td>\n",
       "      <td>2</td>\n",
       "      <td>Serengeti</td>\n",
       "      <td>Natta</td>\n",
       "      <td>280</td>\n",
       "      <td>False</td>\n",
       "      <td>GeoData Consultants Ltd</td>\n",
       "      <td>Other</td>\n",
       "      <td>True</td>\n",
       "      <td>2010</td>\n",
       "      <td>gravity</td>\n",
       "      <td>gravity</td>\n",
       "      <td>gravity</td>\n",
       "      <td>wug</td>\n",
       "      <td>user-group</td>\n",
       "      <td>never pay</td>\n",
       "      <td>never pay</td>\n",
       "      <td>soft</td>\n",
       "      <td>good</td>\n",
       "      <td>insufficient</td>\n",
       "      <td>insufficient</td>\n",
       "      <td>rainwater harvesting</td>\n",
       "      <td>rainwater harvesting</td>\n",
       "      <td>surface</td>\n",
       "      <td>communal standpipe</td>\n",
       "      <td>communal standpipe</td>\n",
       "    </tr>\n",
       "    <tr>\n",
       "      <th>2</th>\n",
       "      <td>25.0</td>\n",
       "      <td>2013-02-25</td>\n",
       "      <td>other</td>\n",
       "      <td>686</td>\n",
       "      <td>World vision</td>\n",
       "      <td>37.460664</td>\n",
       "      <td>-3.821329</td>\n",
       "      <td>other</td>\n",
       "      <td>0</td>\n",
       "      <td>Pangani</td>\n",
       "      <td>Majengo</td>\n",
       "      <td>Manyara</td>\n",
       "      <td>21</td>\n",
       "      <td>4</td>\n",
       "      <td>Simanjiro</td>\n",
       "      <td>other</td>\n",
       "      <td>250</td>\n",
       "      <td>True</td>\n",
       "      <td>GeoData Consultants Ltd</td>\n",
       "      <td>VWC</td>\n",
       "      <td>True</td>\n",
       "      <td>2009</td>\n",
       "      <td>gravity</td>\n",
       "      <td>gravity</td>\n",
       "      <td>gravity</td>\n",
       "      <td>vwc</td>\n",
       "      <td>user-group</td>\n",
       "      <td>pay per bucket</td>\n",
       "      <td>per bucket</td>\n",
       "      <td>soft</td>\n",
       "      <td>good</td>\n",
       "      <td>enough</td>\n",
       "      <td>enough</td>\n",
       "      <td>dam</td>\n",
       "      <td>dam</td>\n",
       "      <td>surface</td>\n",
       "      <td>communal standpipe multiple</td>\n",
       "      <td>communal standpipe</td>\n",
       "    </tr>\n",
       "    <tr>\n",
       "      <th>3</th>\n",
       "      <td>0.0</td>\n",
       "      <td>2013-01-28</td>\n",
       "      <td>Unicef</td>\n",
       "      <td>263</td>\n",
       "      <td>UNICEF</td>\n",
       "      <td>38.486161</td>\n",
       "      <td>-11.155298</td>\n",
       "      <td>other</td>\n",
       "      <td>0</td>\n",
       "      <td>Ruvuma / Southern Coast</td>\n",
       "      <td>other</td>\n",
       "      <td>Mtwara</td>\n",
       "      <td>90</td>\n",
       "      <td>63</td>\n",
       "      <td>Nanyumbu</td>\n",
       "      <td>other</td>\n",
       "      <td>58</td>\n",
       "      <td>True</td>\n",
       "      <td>GeoData Consultants Ltd</td>\n",
       "      <td>VWC</td>\n",
       "      <td>True</td>\n",
       "      <td>1986</td>\n",
       "      <td>submersible</td>\n",
       "      <td>submersible</td>\n",
       "      <td>submersible</td>\n",
       "      <td>vwc</td>\n",
       "      <td>user-group</td>\n",
       "      <td>never pay</td>\n",
       "      <td>never pay</td>\n",
       "      <td>soft</td>\n",
       "      <td>good</td>\n",
       "      <td>dry</td>\n",
       "      <td>dry</td>\n",
       "      <td>machine dbh</td>\n",
       "      <td>borehole</td>\n",
       "      <td>groundwater</td>\n",
       "      <td>communal standpipe multiple</td>\n",
       "      <td>communal standpipe</td>\n",
       "    </tr>\n",
       "    <tr>\n",
       "      <th>4</th>\n",
       "      <td>0.0</td>\n",
       "      <td>2011-07-13</td>\n",
       "      <td>other</td>\n",
       "      <td>0</td>\n",
       "      <td>Artisan</td>\n",
       "      <td>31.130847</td>\n",
       "      <td>-1.825359</td>\n",
       "      <td>Shuleni</td>\n",
       "      <td>0</td>\n",
       "      <td>Lake Victoria</td>\n",
       "      <td>other</td>\n",
       "      <td>Kagera</td>\n",
       "      <td>18</td>\n",
       "      <td>1</td>\n",
       "      <td>Karagwe</td>\n",
       "      <td>other</td>\n",
       "      <td>0</td>\n",
       "      <td>True</td>\n",
       "      <td>GeoData Consultants Ltd</td>\n",
       "      <td>None</td>\n",
       "      <td>True</td>\n",
       "      <td>0</td>\n",
       "      <td>gravity</td>\n",
       "      <td>gravity</td>\n",
       "      <td>gravity</td>\n",
       "      <td>other</td>\n",
       "      <td>other</td>\n",
       "      <td>never pay</td>\n",
       "      <td>never pay</td>\n",
       "      <td>soft</td>\n",
       "      <td>good</td>\n",
       "      <td>seasonal</td>\n",
       "      <td>seasonal</td>\n",
       "      <td>rainwater harvesting</td>\n",
       "      <td>rainwater harvesting</td>\n",
       "      <td>surface</td>\n",
       "      <td>communal standpipe</td>\n",
       "      <td>communal standpipe</td>\n",
       "    </tr>\n",
       "  </tbody>\n",
       "</table>\n",
       "</div>"
      ],
      "text/plain": [
       "   amount_tsh date_recorded   funder  gps_height     installer  longitude  \\\n",
       "0      6000.0    2011-03-14    Roman        1390         Roman  34.938093   \n",
       "1         0.0    2013-03-06  Grumeti        1399         other  34.698766   \n",
       "2        25.0    2013-02-25    other         686  World vision  37.460664   \n",
       "3         0.0    2013-01-28   Unicef         263        UNICEF  38.486161   \n",
       "4         0.0    2011-07-13    other           0       Artisan  31.130847   \n",
       "\n",
       "    latitude  wpt_name  num_private                    basin subvillage  \\\n",
       "0  -9.856322      none            0               Lake Nyasa      other   \n",
       "1  -2.147466  Zahanati            0            Lake Victoria      other   \n",
       "2  -3.821329     other            0                  Pangani    Majengo   \n",
       "3 -11.155298     other            0  Ruvuma / Southern Coast      other   \n",
       "4  -1.825359   Shuleni            0            Lake Victoria      other   \n",
       "\n",
       "    region  region_code  district_code        lga   ward  population  \\\n",
       "0   Iringa           11              5     Ludewa  other         109   \n",
       "1     Mara           20              2  Serengeti  Natta         280   \n",
       "2  Manyara           21              4  Simanjiro  other         250   \n",
       "3   Mtwara           90             63   Nanyumbu  other          58   \n",
       "4   Kagera           18              1    Karagwe  other           0   \n",
       "\n",
       "   public_meeting              recorded_by scheme_management  permit  \\\n",
       "0            True  GeoData Consultants Ltd               VWC   False   \n",
       "1           False  GeoData Consultants Ltd             Other    True   \n",
       "2            True  GeoData Consultants Ltd               VWC    True   \n",
       "3            True  GeoData Consultants Ltd               VWC    True   \n",
       "4            True  GeoData Consultants Ltd              None    True   \n",
       "\n",
       "   construction_year extraction_type extraction_type_group  \\\n",
       "0               1999         gravity               gravity   \n",
       "1               2010         gravity               gravity   \n",
       "2               2009         gravity               gravity   \n",
       "3               1986     submersible           submersible   \n",
       "4                  0         gravity               gravity   \n",
       "\n",
       "  extraction_type_class management management_group         payment  \\\n",
       "0               gravity        vwc       user-group    pay annually   \n",
       "1               gravity        wug       user-group       never pay   \n",
       "2               gravity        vwc       user-group  pay per bucket   \n",
       "3           submersible        vwc       user-group       never pay   \n",
       "4               gravity      other            other       never pay   \n",
       "\n",
       "  payment_type water_quality quality_group      quantity quantity_group  \\\n",
       "0     annually          soft          good        enough         enough   \n",
       "1    never pay          soft          good  insufficient   insufficient   \n",
       "2   per bucket          soft          good        enough         enough   \n",
       "3    never pay          soft          good           dry            dry   \n",
       "4    never pay          soft          good      seasonal       seasonal   \n",
       "\n",
       "                 source           source_type source_class  \\\n",
       "0                spring                spring  groundwater   \n",
       "1  rainwater harvesting  rainwater harvesting      surface   \n",
       "2                   dam                   dam      surface   \n",
       "3           machine dbh              borehole  groundwater   \n",
       "4  rainwater harvesting  rainwater harvesting      surface   \n",
       "\n",
       "               waterpoint_type waterpoint_type_group  \n",
       "0           communal standpipe    communal standpipe  \n",
       "1           communal standpipe    communal standpipe  \n",
       "2  communal standpipe multiple    communal standpipe  \n",
       "3  communal standpipe multiple    communal standpipe  \n",
       "4           communal standpipe    communal standpipe  "
      ]
     },
     "execution_count": 420,
     "metadata": {},
     "output_type": "execute_result"
    }
   ],
   "source": [
    "X_clean.head()"
   ]
  },
  {
   "cell_type": "code",
   "execution_count": 421,
   "metadata": {},
   "outputs": [],
   "source": [
    "X_clean.drop(['date_recorded'], axis = 1, inplace = True)"
   ]
  },
  {
   "cell_type": "code",
   "execution_count": 422,
   "metadata": {},
   "outputs": [
    {
     "data": {
      "text/html": [
       "<div>\n",
       "<style scoped>\n",
       "    .dataframe tbody tr th:only-of-type {\n",
       "        vertical-align: middle;\n",
       "    }\n",
       "\n",
       "    .dataframe tbody tr th {\n",
       "        vertical-align: top;\n",
       "    }\n",
       "\n",
       "    .dataframe thead th {\n",
       "        text-align: right;\n",
       "    }\n",
       "</style>\n",
       "<table border=\"1\" class=\"dataframe\">\n",
       "  <thead>\n",
       "    <tr style=\"text-align: right;\">\n",
       "      <th></th>\n",
       "      <th>amount_tsh</th>\n",
       "      <th>funder</th>\n",
       "      <th>gps_height</th>\n",
       "      <th>installer</th>\n",
       "      <th>longitude</th>\n",
       "      <th>latitude</th>\n",
       "      <th>wpt_name</th>\n",
       "      <th>num_private</th>\n",
       "      <th>basin</th>\n",
       "      <th>subvillage</th>\n",
       "      <th>region</th>\n",
       "      <th>region_code</th>\n",
       "      <th>district_code</th>\n",
       "      <th>lga</th>\n",
       "      <th>ward</th>\n",
       "      <th>population</th>\n",
       "      <th>public_meeting</th>\n",
       "      <th>recorded_by</th>\n",
       "      <th>scheme_management</th>\n",
       "      <th>permit</th>\n",
       "      <th>construction_year</th>\n",
       "      <th>extraction_type</th>\n",
       "      <th>extraction_type_group</th>\n",
       "      <th>extraction_type_class</th>\n",
       "      <th>management</th>\n",
       "      <th>management_group</th>\n",
       "      <th>payment</th>\n",
       "      <th>payment_type</th>\n",
       "      <th>water_quality</th>\n",
       "      <th>quality_group</th>\n",
       "      <th>quantity</th>\n",
       "      <th>quantity_group</th>\n",
       "      <th>source</th>\n",
       "      <th>source_type</th>\n",
       "      <th>source_class</th>\n",
       "      <th>waterpoint_type</th>\n",
       "      <th>waterpoint_type_group</th>\n",
       "    </tr>\n",
       "  </thead>\n",
       "  <tbody>\n",
       "    <tr>\n",
       "      <th>0</th>\n",
       "      <td>6000.0</td>\n",
       "      <td>Roman</td>\n",
       "      <td>1390</td>\n",
       "      <td>Roman</td>\n",
       "      <td>34.938093</td>\n",
       "      <td>-9.856322</td>\n",
       "      <td>none</td>\n",
       "      <td>0</td>\n",
       "      <td>Lake Nyasa</td>\n",
       "      <td>other</td>\n",
       "      <td>Iringa</td>\n",
       "      <td>11</td>\n",
       "      <td>5</td>\n",
       "      <td>Ludewa</td>\n",
       "      <td>other</td>\n",
       "      <td>109</td>\n",
       "      <td>True</td>\n",
       "      <td>GeoData Consultants Ltd</td>\n",
       "      <td>VWC</td>\n",
       "      <td>False</td>\n",
       "      <td>1999</td>\n",
       "      <td>gravity</td>\n",
       "      <td>gravity</td>\n",
       "      <td>gravity</td>\n",
       "      <td>vwc</td>\n",
       "      <td>user-group</td>\n",
       "      <td>pay annually</td>\n",
       "      <td>annually</td>\n",
       "      <td>soft</td>\n",
       "      <td>good</td>\n",
       "      <td>enough</td>\n",
       "      <td>enough</td>\n",
       "      <td>spring</td>\n",
       "      <td>spring</td>\n",
       "      <td>groundwater</td>\n",
       "      <td>communal standpipe</td>\n",
       "      <td>communal standpipe</td>\n",
       "    </tr>\n",
       "    <tr>\n",
       "      <th>1</th>\n",
       "      <td>0.0</td>\n",
       "      <td>Grumeti</td>\n",
       "      <td>1399</td>\n",
       "      <td>other</td>\n",
       "      <td>34.698766</td>\n",
       "      <td>-2.147466</td>\n",
       "      <td>Zahanati</td>\n",
       "      <td>0</td>\n",
       "      <td>Lake Victoria</td>\n",
       "      <td>other</td>\n",
       "      <td>Mara</td>\n",
       "      <td>20</td>\n",
       "      <td>2</td>\n",
       "      <td>Serengeti</td>\n",
       "      <td>Natta</td>\n",
       "      <td>280</td>\n",
       "      <td>False</td>\n",
       "      <td>GeoData Consultants Ltd</td>\n",
       "      <td>Other</td>\n",
       "      <td>True</td>\n",
       "      <td>2010</td>\n",
       "      <td>gravity</td>\n",
       "      <td>gravity</td>\n",
       "      <td>gravity</td>\n",
       "      <td>wug</td>\n",
       "      <td>user-group</td>\n",
       "      <td>never pay</td>\n",
       "      <td>never pay</td>\n",
       "      <td>soft</td>\n",
       "      <td>good</td>\n",
       "      <td>insufficient</td>\n",
       "      <td>insufficient</td>\n",
       "      <td>rainwater harvesting</td>\n",
       "      <td>rainwater harvesting</td>\n",
       "      <td>surface</td>\n",
       "      <td>communal standpipe</td>\n",
       "      <td>communal standpipe</td>\n",
       "    </tr>\n",
       "    <tr>\n",
       "      <th>2</th>\n",
       "      <td>25.0</td>\n",
       "      <td>other</td>\n",
       "      <td>686</td>\n",
       "      <td>World vision</td>\n",
       "      <td>37.460664</td>\n",
       "      <td>-3.821329</td>\n",
       "      <td>other</td>\n",
       "      <td>0</td>\n",
       "      <td>Pangani</td>\n",
       "      <td>Majengo</td>\n",
       "      <td>Manyara</td>\n",
       "      <td>21</td>\n",
       "      <td>4</td>\n",
       "      <td>Simanjiro</td>\n",
       "      <td>other</td>\n",
       "      <td>250</td>\n",
       "      <td>True</td>\n",
       "      <td>GeoData Consultants Ltd</td>\n",
       "      <td>VWC</td>\n",
       "      <td>True</td>\n",
       "      <td>2009</td>\n",
       "      <td>gravity</td>\n",
       "      <td>gravity</td>\n",
       "      <td>gravity</td>\n",
       "      <td>vwc</td>\n",
       "      <td>user-group</td>\n",
       "      <td>pay per bucket</td>\n",
       "      <td>per bucket</td>\n",
       "      <td>soft</td>\n",
       "      <td>good</td>\n",
       "      <td>enough</td>\n",
       "      <td>enough</td>\n",
       "      <td>dam</td>\n",
       "      <td>dam</td>\n",
       "      <td>surface</td>\n",
       "      <td>communal standpipe multiple</td>\n",
       "      <td>communal standpipe</td>\n",
       "    </tr>\n",
       "    <tr>\n",
       "      <th>3</th>\n",
       "      <td>0.0</td>\n",
       "      <td>Unicef</td>\n",
       "      <td>263</td>\n",
       "      <td>UNICEF</td>\n",
       "      <td>38.486161</td>\n",
       "      <td>-11.155298</td>\n",
       "      <td>other</td>\n",
       "      <td>0</td>\n",
       "      <td>Ruvuma / Southern Coast</td>\n",
       "      <td>other</td>\n",
       "      <td>Mtwara</td>\n",
       "      <td>90</td>\n",
       "      <td>63</td>\n",
       "      <td>Nanyumbu</td>\n",
       "      <td>other</td>\n",
       "      <td>58</td>\n",
       "      <td>True</td>\n",
       "      <td>GeoData Consultants Ltd</td>\n",
       "      <td>VWC</td>\n",
       "      <td>True</td>\n",
       "      <td>1986</td>\n",
       "      <td>submersible</td>\n",
       "      <td>submersible</td>\n",
       "      <td>submersible</td>\n",
       "      <td>vwc</td>\n",
       "      <td>user-group</td>\n",
       "      <td>never pay</td>\n",
       "      <td>never pay</td>\n",
       "      <td>soft</td>\n",
       "      <td>good</td>\n",
       "      <td>dry</td>\n",
       "      <td>dry</td>\n",
       "      <td>machine dbh</td>\n",
       "      <td>borehole</td>\n",
       "      <td>groundwater</td>\n",
       "      <td>communal standpipe multiple</td>\n",
       "      <td>communal standpipe</td>\n",
       "    </tr>\n",
       "    <tr>\n",
       "      <th>4</th>\n",
       "      <td>0.0</td>\n",
       "      <td>other</td>\n",
       "      <td>0</td>\n",
       "      <td>Artisan</td>\n",
       "      <td>31.130847</td>\n",
       "      <td>-1.825359</td>\n",
       "      <td>Shuleni</td>\n",
       "      <td>0</td>\n",
       "      <td>Lake Victoria</td>\n",
       "      <td>other</td>\n",
       "      <td>Kagera</td>\n",
       "      <td>18</td>\n",
       "      <td>1</td>\n",
       "      <td>Karagwe</td>\n",
       "      <td>other</td>\n",
       "      <td>0</td>\n",
       "      <td>True</td>\n",
       "      <td>GeoData Consultants Ltd</td>\n",
       "      <td>None</td>\n",
       "      <td>True</td>\n",
       "      <td>0</td>\n",
       "      <td>gravity</td>\n",
       "      <td>gravity</td>\n",
       "      <td>gravity</td>\n",
       "      <td>other</td>\n",
       "      <td>other</td>\n",
       "      <td>never pay</td>\n",
       "      <td>never pay</td>\n",
       "      <td>soft</td>\n",
       "      <td>good</td>\n",
       "      <td>seasonal</td>\n",
       "      <td>seasonal</td>\n",
       "      <td>rainwater harvesting</td>\n",
       "      <td>rainwater harvesting</td>\n",
       "      <td>surface</td>\n",
       "      <td>communal standpipe</td>\n",
       "      <td>communal standpipe</td>\n",
       "    </tr>\n",
       "  </tbody>\n",
       "</table>\n",
       "</div>"
      ],
      "text/plain": [
       "   amount_tsh   funder  gps_height     installer  longitude   latitude  \\\n",
       "0      6000.0    Roman        1390         Roman  34.938093  -9.856322   \n",
       "1         0.0  Grumeti        1399         other  34.698766  -2.147466   \n",
       "2        25.0    other         686  World vision  37.460664  -3.821329   \n",
       "3         0.0   Unicef         263        UNICEF  38.486161 -11.155298   \n",
       "4         0.0    other           0       Artisan  31.130847  -1.825359   \n",
       "\n",
       "   wpt_name  num_private                    basin subvillage   region  \\\n",
       "0      none            0               Lake Nyasa      other   Iringa   \n",
       "1  Zahanati            0            Lake Victoria      other     Mara   \n",
       "2     other            0                  Pangani    Majengo  Manyara   \n",
       "3     other            0  Ruvuma / Southern Coast      other   Mtwara   \n",
       "4   Shuleni            0            Lake Victoria      other   Kagera   \n",
       "\n",
       "   region_code  district_code        lga   ward  population  public_meeting  \\\n",
       "0           11              5     Ludewa  other         109            True   \n",
       "1           20              2  Serengeti  Natta         280           False   \n",
       "2           21              4  Simanjiro  other         250            True   \n",
       "3           90             63   Nanyumbu  other          58            True   \n",
       "4           18              1    Karagwe  other           0            True   \n",
       "\n",
       "               recorded_by scheme_management  permit  construction_year  \\\n",
       "0  GeoData Consultants Ltd               VWC   False               1999   \n",
       "1  GeoData Consultants Ltd             Other    True               2010   \n",
       "2  GeoData Consultants Ltd               VWC    True               2009   \n",
       "3  GeoData Consultants Ltd               VWC    True               1986   \n",
       "4  GeoData Consultants Ltd              None    True                  0   \n",
       "\n",
       "  extraction_type extraction_type_group extraction_type_class management  \\\n",
       "0         gravity               gravity               gravity        vwc   \n",
       "1         gravity               gravity               gravity        wug   \n",
       "2         gravity               gravity               gravity        vwc   \n",
       "3     submersible           submersible           submersible        vwc   \n",
       "4         gravity               gravity               gravity      other   \n",
       "\n",
       "  management_group         payment payment_type water_quality quality_group  \\\n",
       "0       user-group    pay annually     annually          soft          good   \n",
       "1       user-group       never pay    never pay          soft          good   \n",
       "2       user-group  pay per bucket   per bucket          soft          good   \n",
       "3       user-group       never pay    never pay          soft          good   \n",
       "4            other       never pay    never pay          soft          good   \n",
       "\n",
       "       quantity quantity_group                source           source_type  \\\n",
       "0        enough         enough                spring                spring   \n",
       "1  insufficient   insufficient  rainwater harvesting  rainwater harvesting   \n",
       "2        enough         enough                   dam                   dam   \n",
       "3           dry            dry           machine dbh              borehole   \n",
       "4      seasonal       seasonal  rainwater harvesting  rainwater harvesting   \n",
       "\n",
       "  source_class              waterpoint_type waterpoint_type_group  \n",
       "0  groundwater           communal standpipe    communal standpipe  \n",
       "1      surface           communal standpipe    communal standpipe  \n",
       "2      surface  communal standpipe multiple    communal standpipe  \n",
       "3  groundwater  communal standpipe multiple    communal standpipe  \n",
       "4      surface           communal standpipe    communal standpipe  "
      ]
     },
     "execution_count": 422,
     "metadata": {},
     "output_type": "execute_result"
    }
   ],
   "source": [
    "# drop datapoints with 0 longitude\n",
    "X_clean = X_clean[X_clean['longitude'].notna()]\n",
    "X_clean.head()"
   ]
  },
  {
   "cell_type": "code",
   "execution_count": 423,
   "metadata": {},
   "outputs": [
    {
     "name": "stdout",
     "output_type": "stream",
     "text": [
      "amount_tsh: 98\n",
      "funder: 1898\n",
      "gps_height: 2428\n",
      "installer: 2146\n",
      "longitude: 57516\n",
      "latitude: 57517\n",
      "wpt_name: 37400\n",
      "num_private: 65\n",
      "basin: 9\n",
      "subvillage: 19288\n",
      "region: 21\n",
      "region_code: 27\n",
      "district_code: 20\n",
      "lga: 125\n",
      "ward: 2092\n",
      "population: 1049\n",
      "public_meeting: 2\n",
      "recorded_by: 1\n",
      "scheme_management: 12\n",
      "permit: 2\n",
      "construction_year: 55\n",
      "extraction_type: 18\n",
      "extraction_type_group: 13\n",
      "extraction_type_class: 7\n",
      "management: 12\n",
      "management_group: 5\n",
      "payment: 7\n",
      "payment_type: 7\n",
      "water_quality: 8\n",
      "quality_group: 6\n",
      "quantity: 5\n",
      "quantity_group: 5\n",
      "source: 10\n",
      "source_type: 7\n",
      "source_class: 3\n",
      "waterpoint_type: 7\n",
      "waterpoint_type_group: 6\n"
     ]
    }
   ],
   "source": [
    "# Build functions here to .map to the data set, creating new columns with features\n",
    "for i in X_clean.columns:\n",
    "    print('{}: {}'.format(i,len(df[i].value_counts())))"
   ]
  },
  {
   "cell_type": "code",
   "execution_count": 424,
   "metadata": {},
   "outputs": [],
   "source": [
    "# If applicable, drop original columns with features used to engineer new features"
   ]
  },
  {
   "cell_type": "code",
   "execution_count": 425,
   "metadata": {},
   "outputs": [],
   "source": [
    "#Define get_season function to use in .map() to get the seasons.\n",
    "\n",
    "Y = 2000 # dummy leap year to allow input X-02-29 (leap day)\n",
    "seasons = [('winter', (date(Y,  1,  1),  date(Y,  3, 20))),\n",
    "           ('spring', (date(Y,  3, 21),  date(Y,  6, 20))),\n",
    "           ('summer', (date(Y,  6, 21),  date(Y,  9, 22))),\n",
    "           ('autumn', (date(Y,  9, 23),  date(Y, 12, 20))),\n",
    "           ('winter', (date(Y, 12, 21),  date(Y, 12, 31)))]\n",
    "\n",
    "def get_season(date):\n",
    "    if isinstance(date, datetime):\n",
    "        date = date.date()\n",
    "    date = date.replace(year=Y)\n",
    "    return next(season for season, (start, end) in seasons\n",
    "                if start <= date <= end)"
   ]
  },
  {
   "cell_type": "markdown",
   "metadata": {},
   "source": [
    "Table with the new features and explanations of the physical parameters."
   ]
  },
  {
   "cell_type": "markdown",
   "metadata": {},
   "source": [
    "# Exploratory Data Analysis"
   ]
  },
  {
   "cell_type": "markdown",
   "metadata": {},
   "source": [
    "### Table of Contents with the Types of Analyses Done"
   ]
  },
  {
   "cell_type": "code",
   "execution_count": 426,
   "metadata": {},
   "outputs": [],
   "source": [
    "# Pre-Set the style of our charts\n",
    "mpl.style.use('fivethirtyeight')"
   ]
  },
  {
   "cell_type": "code",
   "execution_count": 427,
   "metadata": {},
   "outputs": [],
   "source": [
    "# Code with the relevant chart for the target feature.\n",
    "continuous = df.select_dtypes(include=['int64','float64'])"
   ]
  },
  {
   "cell_type": "code",
   "execution_count": 428,
   "metadata": {},
   "outputs": [
    {
     "data": {
      "text/html": [
       "<div>\n",
       "<style scoped>\n",
       "    .dataframe tbody tr th:only-of-type {\n",
       "        vertical-align: middle;\n",
       "    }\n",
       "\n",
       "    .dataframe tbody tr th {\n",
       "        vertical-align: top;\n",
       "    }\n",
       "\n",
       "    .dataframe thead th {\n",
       "        text-align: right;\n",
       "    }\n",
       "</style>\n",
       "<table border=\"1\" class=\"dataframe\">\n",
       "  <thead>\n",
       "    <tr style=\"text-align: right;\">\n",
       "      <th></th>\n",
       "      <th>status_group</th>\n",
       "      <th>amount_tsh</th>\n",
       "      <th>gps_height</th>\n",
       "      <th>longitude</th>\n",
       "      <th>latitude</th>\n",
       "      <th>num_private</th>\n",
       "      <th>region_code</th>\n",
       "      <th>district_code</th>\n",
       "      <th>population</th>\n",
       "      <th>construction_year</th>\n",
       "    </tr>\n",
       "  </thead>\n",
       "  <tbody>\n",
       "    <tr>\n",
       "      <th>0</th>\n",
       "      <td>2</td>\n",
       "      <td>6000.0</td>\n",
       "      <td>1390</td>\n",
       "      <td>34.938093</td>\n",
       "      <td>-9.856322</td>\n",
       "      <td>0</td>\n",
       "      <td>11</td>\n",
       "      <td>5</td>\n",
       "      <td>109</td>\n",
       "      <td>1999</td>\n",
       "    </tr>\n",
       "    <tr>\n",
       "      <th>1</th>\n",
       "      <td>2</td>\n",
       "      <td>0.0</td>\n",
       "      <td>1399</td>\n",
       "      <td>34.698766</td>\n",
       "      <td>-2.147466</td>\n",
       "      <td>0</td>\n",
       "      <td>20</td>\n",
       "      <td>2</td>\n",
       "      <td>280</td>\n",
       "      <td>2010</td>\n",
       "    </tr>\n",
       "    <tr>\n",
       "      <th>2</th>\n",
       "      <td>2</td>\n",
       "      <td>25.0</td>\n",
       "      <td>686</td>\n",
       "      <td>37.460664</td>\n",
       "      <td>-3.821329</td>\n",
       "      <td>0</td>\n",
       "      <td>21</td>\n",
       "      <td>4</td>\n",
       "      <td>250</td>\n",
       "      <td>2009</td>\n",
       "    </tr>\n",
       "    <tr>\n",
       "      <th>3</th>\n",
       "      <td>0</td>\n",
       "      <td>0.0</td>\n",
       "      <td>263</td>\n",
       "      <td>38.486161</td>\n",
       "      <td>-11.155298</td>\n",
       "      <td>0</td>\n",
       "      <td>90</td>\n",
       "      <td>63</td>\n",
       "      <td>58</td>\n",
       "      <td>1986</td>\n",
       "    </tr>\n",
       "    <tr>\n",
       "      <th>4</th>\n",
       "      <td>2</td>\n",
       "      <td>0.0</td>\n",
       "      <td>0</td>\n",
       "      <td>31.130847</td>\n",
       "      <td>-1.825359</td>\n",
       "      <td>0</td>\n",
       "      <td>18</td>\n",
       "      <td>1</td>\n",
       "      <td>0</td>\n",
       "      <td>0</td>\n",
       "    </tr>\n",
       "    <tr>\n",
       "      <th>...</th>\n",
       "      <td>...</td>\n",
       "      <td>...</td>\n",
       "      <td>...</td>\n",
       "      <td>...</td>\n",
       "      <td>...</td>\n",
       "      <td>...</td>\n",
       "      <td>...</td>\n",
       "      <td>...</td>\n",
       "      <td>...</td>\n",
       "      <td>...</td>\n",
       "    </tr>\n",
       "    <tr>\n",
       "      <th>59395</th>\n",
       "      <td>2</td>\n",
       "      <td>10.0</td>\n",
       "      <td>1210</td>\n",
       "      <td>37.169807</td>\n",
       "      <td>-3.253847</td>\n",
       "      <td>0</td>\n",
       "      <td>3</td>\n",
       "      <td>5</td>\n",
       "      <td>125</td>\n",
       "      <td>1999</td>\n",
       "    </tr>\n",
       "    <tr>\n",
       "      <th>59396</th>\n",
       "      <td>2</td>\n",
       "      <td>4700.0</td>\n",
       "      <td>1212</td>\n",
       "      <td>35.249991</td>\n",
       "      <td>-9.070629</td>\n",
       "      <td>0</td>\n",
       "      <td>11</td>\n",
       "      <td>4</td>\n",
       "      <td>56</td>\n",
       "      <td>1996</td>\n",
       "    </tr>\n",
       "    <tr>\n",
       "      <th>59397</th>\n",
       "      <td>2</td>\n",
       "      <td>0.0</td>\n",
       "      <td>0</td>\n",
       "      <td>34.017087</td>\n",
       "      <td>-8.750434</td>\n",
       "      <td>0</td>\n",
       "      <td>12</td>\n",
       "      <td>7</td>\n",
       "      <td>0</td>\n",
       "      <td>0</td>\n",
       "    </tr>\n",
       "    <tr>\n",
       "      <th>59398</th>\n",
       "      <td>2</td>\n",
       "      <td>0.0</td>\n",
       "      <td>0</td>\n",
       "      <td>35.861315</td>\n",
       "      <td>-6.378573</td>\n",
       "      <td>0</td>\n",
       "      <td>1</td>\n",
       "      <td>4</td>\n",
       "      <td>0</td>\n",
       "      <td>0</td>\n",
       "    </tr>\n",
       "    <tr>\n",
       "      <th>59399</th>\n",
       "      <td>2</td>\n",
       "      <td>0.0</td>\n",
       "      <td>191</td>\n",
       "      <td>38.104048</td>\n",
       "      <td>-6.747464</td>\n",
       "      <td>0</td>\n",
       "      <td>5</td>\n",
       "      <td>2</td>\n",
       "      <td>150</td>\n",
       "      <td>2002</td>\n",
       "    </tr>\n",
       "  </tbody>\n",
       "</table>\n",
       "<p>59400 rows × 10 columns</p>\n",
       "</div>"
      ],
      "text/plain": [
       "       status_group  amount_tsh  gps_height  longitude   latitude  \\\n",
       "0                 2      6000.0        1390  34.938093  -9.856322   \n",
       "1                 2         0.0        1399  34.698766  -2.147466   \n",
       "2                 2        25.0         686  37.460664  -3.821329   \n",
       "3                 0         0.0         263  38.486161 -11.155298   \n",
       "4                 2         0.0           0  31.130847  -1.825359   \n",
       "...             ...         ...         ...        ...        ...   \n",
       "59395             2        10.0        1210  37.169807  -3.253847   \n",
       "59396             2      4700.0        1212  35.249991  -9.070629   \n",
       "59397             2         0.0           0  34.017087  -8.750434   \n",
       "59398             2         0.0           0  35.861315  -6.378573   \n",
       "59399             2         0.0         191  38.104048  -6.747464   \n",
       "\n",
       "       num_private  region_code  district_code  population  construction_year  \n",
       "0                0           11              5         109               1999  \n",
       "1                0           20              2         280               2010  \n",
       "2                0           21              4         250               2009  \n",
       "3                0           90             63          58               1986  \n",
       "4                0           18              1           0                  0  \n",
       "...            ...          ...            ...         ...                ...  \n",
       "59395            0            3              5         125               1999  \n",
       "59396            0           11              4          56               1996  \n",
       "59397            0           12              7           0                  0  \n",
       "59398            0            1              4           0                  0  \n",
       "59399            0            5              2         150               2002  \n",
       "\n",
       "[59400 rows x 10 columns]"
      ]
     },
     "execution_count": 428,
     "metadata": {},
     "output_type": "execute_result"
    }
   ],
   "source": [
    "continuous"
   ]
  },
  {
   "cell_type": "code",
   "execution_count": 429,
   "metadata": {},
   "outputs": [
    {
     "data": {
      "text/plain": [
       "10"
      ]
     },
     "execution_count": 429,
     "metadata": {},
     "output_type": "execute_result"
    }
   ],
   "source": [
    "len(continuous.columns)"
   ]
  },
  {
   "cell_type": "code",
   "execution_count": 430,
   "metadata": {},
   "outputs": [
    {
     "data": {
      "text/plain": [
       "0        2\n",
       "1        2\n",
       "2        2\n",
       "3        0\n",
       "4        2\n",
       "        ..\n",
       "59395    2\n",
       "59396    2\n",
       "59397    2\n",
       "59398    2\n",
       "59399    2\n",
       "Name: status_group, Length: 59400, dtype: int64"
      ]
     },
     "execution_count": 430,
     "metadata": {},
     "output_type": "execute_result"
    }
   ],
   "source": [
    "df['status_group']"
   ]
  },
  {
   "cell_type": "markdown",
   "metadata": {},
   "source": [
    "# Modeling"
   ]
  },
  {
   "cell_type": "markdown",
   "metadata": {},
   "source": [
    "Table of contents describing the different models used"
   ]
  },
  {
   "cell_type": "markdown",
   "metadata": {},
   "source": [
    "## Vanilla Models"
   ]
  },
  {
   "cell_type": "markdown",
   "metadata": {},
   "source": [
    "### Decision Tree"
   ]
  },
  {
   "cell_type": "code",
   "execution_count": 431,
   "metadata": {},
   "outputs": [],
   "source": [
    "# separate features and target\n",
    "X = X_clean\n",
    "y = df['status_group']"
   ]
  },
  {
   "cell_type": "code",
   "execution_count": 432,
   "metadata": {},
   "outputs": [],
   "source": [
    "#train test split\n",
    "X_train,X_test,y_train,y_test = train_test_split(X,y,test_size = 0.33,random_state=42)"
   ]
  },
  {
   "cell_type": "code",
   "execution_count": 433,
   "metadata": {},
   "outputs": [],
   "source": [
    "X_train_cat = X_train.select_dtypes('object')\n",
    "X_test_cat = X_test.select_dtypes('object')"
   ]
  },
  {
   "cell_type": "code",
   "execution_count": 434,
   "metadata": {},
   "outputs": [],
   "source": [
    "X_train_con = X_train.select_dtypes('float64')\n",
    "X_test_con = X_test.select_dtypes('float64')"
   ]
  },
  {
   "cell_type": "code",
   "execution_count": 435,
   "metadata": {},
   "outputs": [],
   "source": [
    "clmntr = ColumnTransformer([('ohe',OneHotEncoder(sparse=False,handle_unknown='ignore'),list(X_train_cat.columns)),\n",
    "                            ('ss',StandardScaler(),list(X_train_con.columns) )])"
   ]
  },
  {
   "cell_type": "code",
   "execution_count": 436,
   "metadata": {},
   "outputs": [],
   "source": [
    "X_train_df = pd.DataFrame(clmntr.fit_transform(X_train))"
   ]
  },
  {
   "cell_type": "code",
   "execution_count": 438,
   "metadata": {},
   "outputs": [
    {
     "data": {
      "text/plain": [
       "Pipeline(steps=[('trsfm',\n",
       "                 ColumnTransformer(transformers=[('ohe',\n",
       "                                                  OneHotEncoder(handle_unknown='ignore',\n",
       "                                                                sparse=False),\n",
       "                                                  ['funder', 'installer',\n",
       "                                                   'wpt_name', 'basin',\n",
       "                                                   'subvillage', 'region',\n",
       "                                                   'lga', 'ward', 'recorded_by',\n",
       "                                                   'scheme_management',\n",
       "                                                   'extraction_type',\n",
       "                                                   'extraction_type_group',\n",
       "                                                   'extraction_type_class',\n",
       "                                                   'management',\n",
       "                                                   'management_group',\n",
       "                                                   'payment', 'payment_type',\n",
       "                                                   'water_quality',\n",
       "                                                   'quality_group', 'quantity',\n",
       "                                                   'quantity_group', 'source',\n",
       "                                                   'source_type',\n",
       "                                                   'source_class',\n",
       "                                                   'waterpoint_type',\n",
       "                                                   'waterpoint_type_group']),\n",
       "                                                 ('ss', StandardScaler(),\n",
       "                                                  ['amount_tsh', 'longitude',\n",
       "                                                   'latitude'])])),\n",
       "                ('dtree', DecisionTreeClassifier(random_state=42))])"
      ]
     },
     "execution_count": 438,
     "metadata": {},
     "output_type": "execute_result"
    }
   ],
   "source": [
    "pipe = Pipeline([('trsfm',clmntr),\n",
    "                 ('dtree',DecisionTreeClassifier(random_state=42))])\n",
    "pipe.fit(X_train,y_train)"
   ]
  },
  {
   "cell_type": "code",
   "execution_count": 439,
   "metadata": {
    "scrolled": false
   },
   "outputs": [
    {
     "data": {
      "text/plain": [
       "Pipeline(steps=[('trsfm',\n",
       "                 ColumnTransformer(transformers=[('ohe',\n",
       "                                                  OneHotEncoder(handle_unknown='ignore',\n",
       "                                                                sparse=False),\n",
       "                                                  ['funder', 'installer',\n",
       "                                                   'wpt_name', 'basin',\n",
       "                                                   'subvillage', 'region',\n",
       "                                                   'lga', 'ward', 'recorded_by',\n",
       "                                                   'scheme_management',\n",
       "                                                   'extraction_type',\n",
       "                                                   'extraction_type_group',\n",
       "                                                   'extraction_type_class',\n",
       "                                                   'management',\n",
       "                                                   'management_group',\n",
       "                                                   'payment', 'payment_type',\n",
       "                                                   'water_quality',\n",
       "                                                   'quality_group', 'quantity',\n",
       "                                                   'quantity_group', 'source',\n",
       "                                                   'source_type',\n",
       "                                                   'source_class',\n",
       "                                                   'waterpoint_type',\n",
       "                                                   'waterpoint_type_group']),\n",
       "                                                 ('ss', StandardScaler(),\n",
       "                                                  ['amount_tsh', 'longitude',\n",
       "                                                   'latitude'])])),\n",
       "                ('sm', SMOTE(random_state=42)),\n",
       "                ('dtree', DecisionTreeClassifier(random_state=42))])"
      ]
     },
     "execution_count": 439,
     "metadata": {},
     "output_type": "execute_result"
    }
   ],
   "source": [
    "# Create model and see summary output\n",
    "from imblearn.pipeline import Pipeline\n",
    "from imblearn.over_sampling import SMOTE\n",
    "\n",
    "pipe = Pipeline([('trsfm',clmntr),\n",
    "                 ('sm', SMOTE(random_state = 42)),\n",
    "                 ('dtree',DecisionTreeClassifier(random_state=42))])#\n",
    "pipe.fit(X_train,y_train)"
   ]
  },
  {
   "cell_type": "code",
   "execution_count": 440,
   "metadata": {},
   "outputs": [
    {
     "data": {
      "text/plain": [
       "nan"
      ]
     },
     "execution_count": 440,
     "metadata": {},
     "output_type": "execute_result"
    }
   ],
   "source": [
    "np.mean(cross_val_score(estimator=pipe,X=X_train_cat,y=y_train,cv=5))"
   ]
  },
  {
   "cell_type": "code",
   "execution_count": 441,
   "metadata": {},
   "outputs": [
    {
     "data": {
      "text/plain": [
       "0.9977637067189306"
      ]
     },
     "execution_count": 441,
     "metadata": {},
     "output_type": "execute_result"
    }
   ],
   "source": [
    "pipe.score(X_train,y_train)"
   ]
  },
  {
   "cell_type": "code",
   "execution_count": 442,
   "metadata": {},
   "outputs": [
    {
     "data": {
      "text/plain": [
       "0.74783185389246"
      ]
     },
     "execution_count": 442,
     "metadata": {},
     "output_type": "execute_result"
    }
   ],
   "source": [
    "pipe.score(X_test,y_test)"
   ]
  },
  {
   "cell_type": "code",
   "execution_count": 443,
   "metadata": {},
   "outputs": [],
   "source": [
    "y_hat_train = pipe.predict(X_train)\n",
    "y_hat_test = pipe.predict(X_test)"
   ]
  },
  {
   "cell_type": "code",
   "execution_count": null,
   "metadata": {},
   "outputs": [],
   "source": [
    "print('Evaluation Metrics: Train Data\\n')\n",
    "print(classification_report(y_train,y_hat_train))\n",
    "print('---------------------------------------------\\n')\n",
    "print('Evaluation Metrics: Test Data\\n')\n",
    "print(classification_report(y_test,y_hat_test))\n",
    "\n",
    "print(plot_confusion_matrix(pipe,X_train,y_train))\n",
    "print(plot_confusion_matrix(pipe,X_test,y_test))"
   ]
  },
  {
   "cell_type": "code",
   "execution_count": null,
   "metadata": {},
   "outputs": [],
   "source": [
    "from sklearn.model_selection import GridSearchCV\n",
    "\n",
    "param_grid = {\n",
    "    'dtree__criterion': ['gini'],\n",
    "    'dtree__splitter': ['best'],\n",
    "    'dtree__max_depth': [25],\n",
    "    'dtree__min_samples_split': [2],\n",
    "    #'dtree__min_samples_leaf': [1, 3, 5],\n",
    "    #'dtree__max_features': ['auto', 'sqrt', 'log2'],\n",
    "}\n",
    "\n",
    "search = GridSearchCV(pipe, param_grid, n_jobs=2)\n",
    "search.fit(X_train, y_train)\n",
    "\n",
    "print(\"Best parameter (CV score=%0.3f):\" % search.best_score_)\n",
    "print(search.best_params_)"
   ]
  },
  {
   "cell_type": "markdown",
   "metadata": {},
   "source": [
    "### Logistic Regression"
   ]
  },
  {
   "cell_type": "code",
   "execution_count": null,
   "metadata": {},
   "outputs": [],
   "source": [
    "pipe_lr = Pipeline([('trsfm',clmntr),\n",
    "                    ('sm', SMOTE(random_state = 42)),\n",
    "                    ('lr',LogisticRegression(random_state=42))])#\n",
    "pipe_lr.fit(X_train,y_train)"
   ]
  },
  {
   "cell_type": "code",
   "execution_count": null,
   "metadata": {},
   "outputs": [],
   "source": [
    "y_hat_train = pipe_lr.predict(X_train)\n",
    "y_hat_test = pipe_lr.predict(X_test)\n",
    "\n",
    "print('Evaluation Metrics: Train Data\\n')\n",
    "print(classification_report(y_train,y_hat_train))\n",
    "print('---------------------------------------------\\n')\n",
    "print('Evaluation Metrics: Test Data\\n')\n",
    "print(classification_report(y_test,y_hat_test))\n",
    "\n",
    "plot_confusion_matrix(pipe_lr,X_train,y_train)"
   ]
  },
  {
   "cell_type": "code",
   "execution_count": 157,
   "metadata": {},
   "outputs": [
    {
     "name": "stdout",
     "output_type": "stream",
     "text": [
      "Best parameter (CV score=0.746):\n",
      "{'lr__C': 2.5, 'lr__penalty': 'l2', 'lr__tol': 0.0001}\n"
     ]
    }
   ],
   "source": [
    "from sklearn.model_selection import GridSearchCV\n",
    "\n",
    "param_grid = {\n",
    "    'lr__penalty': ['l2'],\n",
    "    'lr__tol': [1e-4],\n",
    "    'lr__C': [2.5]\n",
    "\n",
    "}\n",
    "\n",
    "search = GridSearchCV(pipe_lr, param_grid, n_jobs=2)\n",
    "search.fit(X_train, y_train)\n",
    "\n",
    "print(\"Best parameter (CV score=%0.3f):\" % search.best_score_)\n",
    "print(search.best_params_)"
   ]
  },
  {
   "cell_type": "markdown",
   "metadata": {},
   "source": [
    "### KNN Classifier"
   ]
  },
  {
   "cell_type": "code",
   "execution_count": 67,
   "metadata": {},
   "outputs": [
    {
     "data": {
      "text/plain": [
       "Pipeline(steps=[('trsfm',\n",
       "                 ColumnTransformer(transformers=[('ohe',\n",
       "                                                  OneHotEncoder(handle_unknown='ignore',\n",
       "                                                                sparse=False),\n",
       "                                                  ['basin', 'region', 'lga',\n",
       "                                                   'scheme_management',\n",
       "                                                   'extraction_type',\n",
       "                                                   'extraction_type_group',\n",
       "                                                   'extraction_type_class',\n",
       "                                                   'management',\n",
       "                                                   'management_group',\n",
       "                                                   'payment', 'payment_type',\n",
       "                                                   'water_quality',\n",
       "                                                   'quality_group', 'quantity',\n",
       "                                                   'quantity_group', 'source',\n",
       "                                                   'source_type',\n",
       "                                                   'source_class',\n",
       "                                                   'waterpoint_type',\n",
       "                                                   'waterpoint_type_group']),\n",
       "                                                 ('ss', StandardScaler(),\n",
       "                                                  ['amount_tsh', 'longitude',\n",
       "                                                   'latitude'])])),\n",
       "                ('knn', KNeighborsClassifier())])"
      ]
     },
     "execution_count": 67,
     "metadata": {},
     "output_type": "execute_result"
    }
   ],
   "source": [
    "pipe_knn = Pipeline([('trsfm',clmntr),('knn',KNeighborsClassifier())])\n",
    "pipe_knn.fit(X_train,y_train)"
   ]
  },
  {
   "cell_type": "code",
   "execution_count": 68,
   "metadata": {},
   "outputs": [
    {
     "name": "stdout",
     "output_type": "stream",
     "text": [
      "Evaluation Metrics: Train Data\n",
      "\n",
      "              precision    recall  f1-score   support\n",
      "\n",
      "           0       0.85      0.83      0.84     15366\n",
      "           1       0.64      0.46      0.54      2892\n",
      "           2       0.85      0.90      0.87     21540\n",
      "\n",
      "    accuracy                           0.84     39798\n",
      "   macro avg       0.78      0.73      0.75     39798\n",
      "weighted avg       0.84      0.84      0.84     39798\n",
      "\n",
      "---------------------------------------------\n",
      "\n",
      "Evaluation Metrics: Test Data\n",
      "\n",
      "              precision    recall  f1-score   support\n",
      "\n",
      "           0       0.77      0.76      0.77      7458\n",
      "           1       0.45      0.34      0.39      1425\n",
      "           2       0.80      0.84      0.82     10719\n",
      "\n",
      "    accuracy                           0.77     19602\n",
      "   macro avg       0.68      0.65      0.66     19602\n",
      "weighted avg       0.76      0.77      0.77     19602\n",
      "\n"
     ]
    },
    {
     "data": {
      "text/plain": [
       "<sklearn.metrics._plot.confusion_matrix.ConfusionMatrixDisplay at 0x1c187b02a30>"
      ]
     },
     "execution_count": 68,
     "metadata": {},
     "output_type": "execute_result"
    },
    {
     "data": {
      "image/png": "[encoded data removed]",
      "text/plain": [
       "<Figure size 432x288 with 2 Axes>"
      ]
     },
     "metadata": {},
     "output_type": "display_data"
    }
   ],
   "source": [
    "y_hat_train = pipe_knn.predict(X_train)\n",
    "y_hat_test = pipe_knn.predict(X_test)\n",
    "\n",
    "print('Evaluation Metrics: Train Data\\n')\n",
    "print(classification_report(y_train,y_hat_train))\n",
    "print('---------------------------------------------\\n')\n",
    "print('Evaluation Metrics: Test Data\\n')\n",
    "print(classification_report(y_test,y_hat_test))\n",
    "\n",
    "plot_confusion_matrix(pipe_knn,X_train,y_train)"
   ]
  },
  {
   "cell_type": "code",
   "execution_count": 158,
   "metadata": {},
   "outputs": [
    {
     "name": "stdout",
     "output_type": "stream",
     "text": [
      "Best parameter (CV score=0.780):\n",
      "{'knn__leaf_size': 40, 'knn__n_neighbors': 15, 'knn__p': 1, 'knn__weights': 'distance'}\n"
     ]
    }
   ],
   "source": [
    "from sklearn.model_selection import GridSearchCV\n",
    "\n",
    "param_grid = {\n",
    "    'knn__n_neighbors': [15],\n",
    "    'knn__weights': ['distance'],\n",
    "    'knn__leaf_size': [40],\n",
    "    'knn__p': [1]\n",
    "}\n",
    "\n",
    "search = GridSearchCV(pipe_knn, param_grid, n_jobs=-1)\n",
    "search.fit(X_train, y_train)\n",
    "\n",
    "print(\"Best parameter (CV score=%0.3f):\" % search.best_score_)\n",
    "print(search.best_params_)"
   ]
  },
  {
   "cell_type": "markdown",
   "metadata": {},
   "source": [
    "### Random Forest"
   ]
  },
  {
   "cell_type": "code",
   "execution_count": 69,
   "metadata": {},
   "outputs": [
    {
     "data": {
      "text/plain": [
       "Pipeline(steps=[('trsfm',\n",
       "                 ColumnTransformer(transformers=[('ohe',\n",
       "                                                  OneHotEncoder(handle_unknown='ignore',\n",
       "                                                                sparse=False),\n",
       "                                                  ['basin', 'region', 'lga',\n",
       "                                                   'scheme_management',\n",
       "                                                   'extraction_type',\n",
       "                                                   'extraction_type_group',\n",
       "                                                   'extraction_type_class',\n",
       "                                                   'management',\n",
       "                                                   'management_group',\n",
       "                                                   'payment', 'payment_type',\n",
       "                                                   'water_quality',\n",
       "                                                   'quality_group', 'quantity',\n",
       "                                                   'quantity_group', 'source',\n",
       "                                                   'source_type',\n",
       "                                                   'source_class',\n",
       "                                                   'waterpoint_type',\n",
       "                                                   'waterpoint_type_group']),\n",
       "                                                 ('ss', StandardScaler(),\n",
       "                                                  ['amount_tsh', 'longitude',\n",
       "                                                   'latitude'])])),\n",
       "                ('rf', RandomForestClassifier())])"
      ]
     },
     "execution_count": 69,
     "metadata": {},
     "output_type": "execute_result"
    }
   ],
   "source": [
    "from sklearn.ensemble import RandomForestClassifier\n",
    "\n",
    "pipe_rf = Pipeline([('trsfm',clmntr),('rf',RandomForestClassifier())])\n",
    "pipe_rf.fit(X_train,y_train)"
   ]
  },
  {
   "cell_type": "code",
   "execution_count": 74,
   "metadata": {
    "scrolled": false
   },
   "outputs": [
    {
     "name": "stdout",
     "output_type": "stream",
     "text": [
      "Evaluation Metrics: Train Data\n",
      "\n",
      "              precision    recall  f1-score   support\n",
      "\n",
      "           0       1.00      1.00      1.00     15366\n",
      "           1       0.98      0.96      0.97      2892\n",
      "           2       0.99      1.00      1.00     21540\n",
      "\n",
      "    accuracy                           0.99     39798\n",
      "   macro avg       0.99      0.99      0.99     39798\n",
      "weighted avg       0.99      0.99      0.99     39798\n",
      "\n",
      "---------------------------------------------\n",
      "\n",
      "Evaluation Metrics: Test Data\n",
      "\n",
      "              precision    recall  f1-score   support\n",
      "\n",
      "           0       0.79      0.77      0.78      7458\n",
      "           1       0.44      0.36      0.40      1425\n",
      "           2       0.81      0.84      0.82     10719\n",
      "\n",
      "    accuracy                           0.78     19602\n",
      "   macro avg       0.68      0.66      0.67     19602\n",
      "weighted avg       0.77      0.78      0.78     19602\n",
      "\n",
      "<sklearn.metrics._plot.confusion_matrix.ConfusionMatrixDisplay object at 0x000001C19F684670>\n",
      "<sklearn.metrics._plot.confusion_matrix.ConfusionMatrixDisplay object at 0x000001C19EACBFD0>\n"
     ]
    },
    {
     "data": {
      "image/png": "[encoded data removed]",
      "text/plain": [
       "<Figure size 432x288 with 2 Axes>"
      ]
     },
     "metadata": {},
     "output_type": "display_data"
    },
    {
     "data": {
      "image/png": "[encoded data removed]",
      "text/plain": [
       "<Figure size 432x288 with 2 Axes>"
      ]
     },
     "metadata": {},
     "output_type": "display_data"
    }
   ],
   "source": [
    "y_hat_train = pipe_rf.predict(X_train)\n",
    "y_hat_test = pipe_rf.predict(X_test)\n",
    "\n",
    "print('Evaluation Metrics: Train Data\\n')\n",
    "print(classification_report(y_train,y_hat_train))\n",
    "print('---------------------------------------------\\n')\n",
    "print('Evaluation Metrics: Test Data\\n')\n",
    "print(classification_report(y_test,y_hat_test))\n",
    "\n",
    "print(plot_confusion_matrix(pipe_rf,X_train,y_train))\n",
    "print(plot_confusion_matrix(pipe_rf,X_test,y_test))"
   ]
  },
  {
   "cell_type": "code",
   "execution_count": 92,
   "metadata": {},
   "outputs": [
    {
     "data": {
      "text/plain": [
       "296"
      ]
     },
     "execution_count": 92,
     "metadata": {},
     "output_type": "execute_result"
    }
   ],
   "source": [
    "len(pipe_rf.steps[1][1].feature_importances_)"
   ]
  },
  {
   "cell_type": "code",
   "execution_count": 97,
   "metadata": {},
   "outputs": [
    {
     "data": {
      "text/plain": [
       "30"
      ]
     },
     "execution_count": 97,
     "metadata": {},
     "output_type": "execute_result"
    }
   ],
   "source": [
    "X_train.shape[1]"
   ]
  },
  {
   "cell_type": "code",
   "execution_count": 102,
   "metadata": {
    "scrolled": true
   },
   "outputs": [
    {
     "data": {
      "text/plain": [
       "<bound method ColumnTransformer.get_feature_names of ColumnTransformer(transformers=[('ohe',\n",
       "                                 OneHotEncoder(handle_unknown='ignore',\n",
       "                                               sparse=False),\n",
       "                                 ['basin', 'region', 'lga', 'scheme_management',\n",
       "                                  'extraction_type', 'extraction_type_group',\n",
       "                                  'extraction_type_class', 'management',\n",
       "                                  'management_group', 'payment', 'payment_type',\n",
       "                                  'water_quality', 'quality_group', 'quantity',\n",
       "                                  'quantity_group', 'source', 'source_type',\n",
       "                                  'source_class', 'waterpoint_type',\n",
       "                                  'waterpoint_type_group']),\n",
       "                                ('ss', StandardScaler(),\n",
       "                                 ['amount_tsh', 'longitude', 'latitude'])])>"
      ]
     },
     "execution_count": 102,
     "metadata": {},
     "output_type": "execute_result"
    }
   ],
   "source": [
    "pipe_rf.steps[0][1].get_feature_names"
   ]
  },
  {
   "cell_type": "code",
   "execution_count": null,
   "metadata": {},
   "outputs": [],
   "source": []
  },
  {
   "cell_type": "code",
   "execution_count": 150,
   "metadata": {},
   "outputs": [
    {
     "data": {
      "text/plain": [
       "['x0_Internal',\n",
       " 'x0_Lake Nyasa',\n",
       " 'x0_Lake Rukwa',\n",
       " 'x0_Lake Tanganyika',\n",
       " 'x0_Lake Victoria',\n",
       " 'x0_Pangani',\n",
       " 'x0_Rufiji',\n",
       " 'x0_Ruvuma / Southern Coast',\n",
       " 'x0_Wami / Ruvu',\n",
       " 'x1_Arusha',\n",
       " 'x1_Dar es Salaam',\n",
       " 'x1_Dodoma',\n",
       " 'x1_Iringa',\n",
       " 'x1_Kagera',\n",
       " 'x1_Kigoma',\n",
       " 'x1_Kilimanjaro',\n",
       " 'x1_Lindi',\n",
       " 'x1_Manyara',\n",
       " 'x1_Mara',\n",
       " 'x1_Mbeya',\n",
       " 'x1_Morogoro',\n",
       " 'x1_Mtwara',\n",
       " 'x1_Mwanza',\n",
       " 'x1_Pwani',\n",
       " 'x1_Rukwa',\n",
       " 'x1_Ruvuma',\n",
       " 'x1_Shinyanga',\n",
       " 'x1_Singida',\n",
       " 'x1_Tabora',\n",
       " 'x1_Tanga',\n",
       " 'x2_Arusha Rural',\n",
       " 'x2_Arusha Urban',\n",
       " 'x2_Babati',\n",
       " 'x2_Bagamoyo',\n",
       " 'x2_Bahi',\n",
       " 'x2_Bariadi',\n",
       " 'x2_Biharamulo',\n",
       " 'x2_Bukoba Rural',\n",
       " 'x2_Bukoba Urban',\n",
       " 'x2_Bukombe',\n",
       " 'x2_Bunda',\n",
       " 'x2_Chamwino',\n",
       " 'x2_Chato',\n",
       " 'x2_Chunya',\n",
       " 'x2_Dodoma Urban',\n",
       " 'x2_Geita',\n",
       " 'x2_Hai',\n",
       " 'x2_Hanang',\n",
       " 'x2_Handeni',\n",
       " 'x2_Igunga',\n",
       " 'x2_Ilala',\n",
       " 'x2_Ileje',\n",
       " 'x2_Ilemela',\n",
       " 'x2_Iramba',\n",
       " 'x2_Iringa Rural',\n",
       " 'x2_Kahama',\n",
       " 'x2_Karagwe',\n",
       " 'x2_Karatu',\n",
       " 'x2_Kasulu',\n",
       " 'x2_Kibaha',\n",
       " 'x2_Kibondo',\n",
       " 'x2_Kigoma Rural',\n",
       " 'x2_Kigoma Urban',\n",
       " 'x2_Kilindi',\n",
       " 'x2_Kilolo',\n",
       " 'x2_Kilombero',\n",
       " 'x2_Kilosa',\n",
       " 'x2_Kilwa',\n",
       " 'x2_Kinondoni',\n",
       " 'x2_Kisarawe',\n",
       " 'x2_Kishapu',\n",
       " 'x2_Kiteto',\n",
       " 'x2_Kondoa',\n",
       " 'x2_Kongwa',\n",
       " 'x2_Korogwe',\n",
       " 'x2_Kwimba',\n",
       " 'x2_Kyela',\n",
       " 'x2_Lindi Rural',\n",
       " 'x2_Lindi Urban',\n",
       " 'x2_Liwale',\n",
       " 'x2_Longido',\n",
       " 'x2_Ludewa',\n",
       " 'x2_Lushoto',\n",
       " 'x2_Mafia',\n",
       " 'x2_Magu',\n",
       " 'x2_Makete',\n",
       " 'x2_Manyoni',\n",
       " 'x2_Masasi',\n",
       " 'x2_Maswa',\n",
       " 'x2_Mbarali',\n",
       " 'x2_Mbeya Rural',\n",
       " 'x2_Mbinga',\n",
       " 'x2_Mbozi',\n",
       " 'x2_Mbulu',\n",
       " 'x2_Meatu',\n",
       " 'x2_Meru',\n",
       " 'x2_Misenyi',\n",
       " 'x2_Missungwi',\n",
       " 'x2_Mkinga',\n",
       " 'x2_Mkuranga',\n",
       " 'x2_Monduli',\n",
       " 'x2_Morogoro Rural',\n",
       " 'x2_Morogoro Urban',\n",
       " 'x2_Moshi Rural',\n",
       " 'x2_Moshi Urban',\n",
       " 'x2_Mpanda',\n",
       " 'x2_Mpwapwa',\n",
       " 'x2_Mtwara Rural',\n",
       " 'x2_Mtwara Urban',\n",
       " 'x2_Mufindi',\n",
       " 'x2_Muheza',\n",
       " 'x2_Muleba',\n",
       " 'x2_Musoma Rural',\n",
       " 'x2_Mvomero',\n",
       " 'x2_Mwanga',\n",
       " 'x2_Nachingwea',\n",
       " 'x2_Namtumbo',\n",
       " 'x2_Nanyumbu',\n",
       " 'x2_Newala',\n",
       " 'x2_Ngara',\n",
       " 'x2_Ngorongoro',\n",
       " 'x2_Njombe',\n",
       " 'x2_Nkasi',\n",
       " 'x2_Nyamagana',\n",
       " 'x2_Nzega',\n",
       " 'x2_Pangani',\n",
       " 'x2_Rombo',\n",
       " 'x2_Rorya',\n",
       " 'x2_Ruangwa',\n",
       " 'x2_Rufiji',\n",
       " 'x2_Rungwe',\n",
       " 'x2_Same',\n",
       " 'x2_Sengerema',\n",
       " 'x2_Serengeti',\n",
       " 'x2_Shinyanga Rural',\n",
       " 'x2_Shinyanga Urban',\n",
       " 'x2_Siha',\n",
       " 'x2_Sikonge',\n",
       " 'x2_Simanjiro',\n",
       " 'x2_Singida Rural',\n",
       " 'x2_Singida Urban',\n",
       " 'x2_Songea Rural',\n",
       " 'x2_Songea Urban',\n",
       " 'x2_Sumbawanga Rural',\n",
       " 'x2_Sumbawanga Urban',\n",
       " 'x2_Tabora Urban',\n",
       " 'x2_Tandahimba',\n",
       " 'x2_Tanga',\n",
       " 'x2_Tarime',\n",
       " 'x2_Temeke',\n",
       " 'x2_Tunduru',\n",
       " 'x2_Ukerewe',\n",
       " 'x2_Ulanga',\n",
       " 'x2_Urambo',\n",
       " 'x2_Uyui',\n",
       " 'x3_Company',\n",
       " 'x3_None',\n",
       " 'x3_Other',\n",
       " 'x3_Parastatal',\n",
       " 'x3_Private operator',\n",
       " 'x3_SWC',\n",
       " 'x3_Trust',\n",
       " 'x3_VWC',\n",
       " 'x3_WUA',\n",
       " 'x3_WUG',\n",
       " 'x3_Water Board',\n",
       " 'x3_Water authority',\n",
       " 'x4_afridev',\n",
       " 'x4_cemo',\n",
       " 'x4_climax',\n",
       " 'x4_gravity',\n",
       " 'x4_india mark ii',\n",
       " 'x4_india mark iii',\n",
       " 'x4_ksb',\n",
       " 'x4_mono',\n",
       " 'x4_nira/tanira',\n",
       " 'x4_other',\n",
       " 'x4_other - mkulima/shinyanga',\n",
       " 'x4_other - play pump',\n",
       " 'x4_other - rope pump',\n",
       " 'x4_other - swn 81',\n",
       " 'x4_submersible',\n",
       " 'x4_swn 80',\n",
       " 'x4_walimi',\n",
       " 'x4_windmill',\n",
       " 'x5_afridev',\n",
       " 'x5_gravity',\n",
       " 'x5_india mark ii',\n",
       " 'x5_india mark iii',\n",
       " 'x5_mono',\n",
       " 'x5_nira/tanira',\n",
       " 'x5_other',\n",
       " 'x5_other handpump',\n",
       " 'x5_other motorpump',\n",
       " 'x5_rope pump',\n",
       " 'x5_submersible',\n",
       " 'x5_swn 80',\n",
       " 'x5_wind-powered',\n",
       " 'x6_gravity',\n",
       " 'x6_handpump',\n",
       " 'x6_motorpump',\n",
       " 'x6_other',\n",
       " 'x6_rope pump',\n",
       " 'x6_submersible',\n",
       " 'x6_wind-powered',\n",
       " 'x7_company',\n",
       " 'x7_other',\n",
       " 'x7_other - school',\n",
       " 'x7_parastatal',\n",
       " 'x7_private operator',\n",
       " 'x7_trust',\n",
       " 'x7_unknown',\n",
       " 'x7_vwc',\n",
       " 'x7_water authority',\n",
       " 'x7_water board',\n",
       " 'x7_wua',\n",
       " 'x7_wug',\n",
       " 'x8_commercial',\n",
       " 'x8_other',\n",
       " 'x8_parastatal',\n",
       " 'x8_unknown',\n",
       " 'x8_user-group',\n",
       " 'x9_never pay',\n",
       " 'x9_other',\n",
       " 'x9_pay annually',\n",
       " 'x9_pay monthly',\n",
       " 'x9_pay per bucket',\n",
       " 'x9_pay when scheme fails',\n",
       " 'x9_unknown',\n",
       " 'x10_annually',\n",
       " 'x10_monthly',\n",
       " 'x10_never pay',\n",
       " 'x10_on failure',\n",
       " 'x10_other',\n",
       " 'x10_per bucket',\n",
       " 'x10_unknown',\n",
       " 'x11_coloured',\n",
       " 'x11_fluoride',\n",
       " 'x11_fluoride abandoned',\n",
       " 'x11_milky',\n",
       " 'x11_salty',\n",
       " 'x11_salty abandoned',\n",
       " 'x11_soft',\n",
       " 'x11_unknown',\n",
       " 'x12_colored',\n",
       " 'x12_fluoride',\n",
       " 'x12_good',\n",
       " 'x12_milky',\n",
       " 'x12_salty',\n",
       " 'x12_unknown',\n",
       " 'x13_dry',\n",
       " 'x13_enough',\n",
       " 'x13_insufficient',\n",
       " 'x13_seasonal',\n",
       " 'x13_unknown',\n",
       " 'x14_dry',\n",
       " 'x14_enough',\n",
       " 'x14_insufficient',\n",
       " 'x14_seasonal',\n",
       " 'x14_unknown',\n",
       " 'x15_dam',\n",
       " 'x15_hand dtw',\n",
       " 'x15_lake',\n",
       " 'x15_machine dbh',\n",
       " 'x15_other',\n",
       " 'x15_rainwater harvesting',\n",
       " 'x15_river',\n",
       " 'x15_shallow well',\n",
       " 'x15_spring',\n",
       " 'x15_unknown',\n",
       " 'x16_borehole',\n",
       " 'x16_dam',\n",
       " 'x16_other',\n",
       " 'x16_rainwater harvesting',\n",
       " 'x16_river/lake',\n",
       " 'x16_shallow well',\n",
       " 'x16_spring',\n",
       " 'x17_groundwater',\n",
       " 'x17_surface',\n",
       " 'x17_unknown',\n",
       " 'x18_cattle trough',\n",
       " 'x18_communal standpipe',\n",
       " 'x18_communal standpipe multiple',\n",
       " 'x18_dam',\n",
       " 'x18_hand pump',\n",
       " 'x18_improved spring',\n",
       " 'x18_other',\n",
       " 'x19_cattle trough',\n",
       " 'x19_communal standpipe',\n",
       " 'x19_dam',\n",
       " 'x19_hand pump',\n",
       " 'x19_improved spring',\n",
       " 'x19_other']"
      ]
     },
     "execution_count": 150,
     "metadata": {},
     "output_type": "execute_result"
    }
   ],
   "source": [
    "feature_names = list(pipe_rf.named_steps['trsfm'].transformers_[0][1].get_feature_names())\n",
    "feature_names"
   ]
  },
  {
   "cell_type": "code",
   "execution_count": 151,
   "metadata": {},
   "outputs": [],
   "source": [
    "feature_names = feature_names + pipe_rf.named_steps['trsfm'].transformers_[1][2]"
   ]
  },
  {
   "cell_type": "code",
   "execution_count": 160,
   "metadata": {},
   "outputs": [
    {
     "data": {
      "text/plain": [
       "{'x0_Internal': 0.004249635294397986,\n",
       " 'x0_Lake Nyasa': 0.0027006675779902667,\n",
       " 'x0_Lake Rukwa': 0.00276265124011159,\n",
       " 'x0_Lake Tanganyika': 0.0032138702283064247,\n",
       " 'x0_Lake Victoria': 0.003730577308571516,\n",
       " 'x0_Pangani': 0.003043854746350487,\n",
       " 'x0_Rufiji': 0.003324321215998921,\n",
       " 'x0_Ruvuma / Southern Coast': 0.002215141707225968,\n",
       " 'x0_Wami / Ruvu': 0.00287164660712094,\n",
       " 'x1_Arusha': 0.002239346601690887,\n",
       " 'x1_Dar es Salaam': 0.0005817541987117494,\n",
       " 'x1_Dodoma': 0.0022322772087926598,\n",
       " 'x1_Iringa': 0.00396496982598268,\n",
       " 'x1_Kagera': 0.0019320519782584796,\n",
       " 'x1_Kigoma': 0.0023875825682809428,\n",
       " 'x1_Kilimanjaro': 0.0020148279291503524,\n",
       " 'x1_Lindi': 0.0012275008757971757,\n",
       " 'x1_Manyara': 0.0015346004893997723,\n",
       " 'x1_Mara': 0.0023092311859106507,\n",
       " 'x1_Mbeya': 0.002014963564027262,\n",
       " 'x1_Morogoro': 0.0022418028338343915,\n",
       " 'x1_Mtwara': 0.0012941667682094468,\n",
       " 'x1_Mwanza': 0.0017643838811666052,\n",
       " 'x1_Pwani': 0.0018335196168522312,\n",
       " 'x1_Rukwa': 0.001469163448772352,\n",
       " 'x1_Ruvuma': 0.0013387070389409839,\n",
       " 'x1_Shinyanga': 0.002805092923716653,\n",
       " 'x1_Singida': 0.00167668469513388,\n",
       " 'x1_Tabora': 0.001334569056404794,\n",
       " 'x1_Tanga': 0.001605955775429504,\n",
       " 'x2_Arusha Rural': 0.0010874345699522464,\n",
       " 'x2_Arusha Urban': 0.00010001778069202245,\n",
       " 'x2_Babati': 0.0006514677892806339,\n",
       " 'x2_Bagamoyo': 0.0006537620890233793,\n",
       " 'x2_Bahi': 0.0003195119838104295,\n",
       " 'x2_Bariadi': 0.002694344405791315,\n",
       " 'x2_Biharamulo': 0.000559345963647449,\n",
       " 'x2_Bukoba Rural': 0.0007583895902711739,\n",
       " 'x2_Bukoba Urban': 0.00025477335804776507,\n",
       " 'x2_Bukombe': 0.00024189927227311425,\n",
       " 'x2_Bunda': 0.0006545972571020717,\n",
       " 'x2_Chamwino': 0.00039770459619189167,\n",
       " 'x2_Chato': 0.00045074988529053746,\n",
       " 'x2_Chunya': 0.001440601722595788,\n",
       " 'x2_Dodoma Urban': 0.0006022528183246785,\n",
       " 'x2_Geita': 0.0007634189540078687,\n",
       " 'x2_Hai': 0.0002749251087391361,\n",
       " 'x2_Hanang': 0.00045313168457593615,\n",
       " 'x2_Handeni': 0.00031905171234766473,\n",
       " 'x2_Igunga': 0.00044523751475039055,\n",
       " 'x2_Ilala': 0.0004389261887801404,\n",
       " 'x2_Ileje': 0.0003161584819258157,\n",
       " 'x2_Ilemela': 0.00038404582881849367,\n",
       " 'x2_Iramba': 0.0005340184172193653,\n",
       " 'x2_Iringa Rural': 0.0004901814957826686,\n",
       " 'x2_Kahama': 0.000948582444239409,\n",
       " 'x2_Karagwe': 0.0006197054287597451,\n",
       " 'x2_Karatu': 0.000398608677221804,\n",
       " 'x2_Kasulu': 0.0008725551709536805,\n",
       " 'x2_Kibaha': 0.0003831153573778012,\n",
       " 'x2_Kibondo': 0.0010014008195576558,\n",
       " 'x2_Kigoma Rural': 0.0017235034657963535,\n",
       " 'x2_Kigoma Urban': 6.812629807765746e-05,\n",
       " 'x2_Kilindi': 0.00028447828782858644,\n",
       " 'x2_Kilolo': 0.0005265365608887232,\n",
       " 'x2_Kilombero': 0.0007335017174018712,\n",
       " 'x2_Kilosa': 0.0014328953626122792,\n",
       " 'x2_Kilwa': 0.00042377423524410395,\n",
       " 'x2_Kinondoni': 0.00013495356374700472,\n",
       " 'x2_Kisarawe': 0.0005634946682664243,\n",
       " 'x2_Kishapu': 0.0005613160143214572,\n",
       " 'x2_Kiteto': 0.00056421168581139,\n",
       " 'x2_Kondoa': 0.0010639995219091619,\n",
       " 'x2_Kongwa': 0.0006792149655068806,\n",
       " 'x2_Korogwe': 0.0007227719294044035,\n",
       " 'x2_Kwimba': 0.0009574675445516016,\n",
       " 'x2_Kyela': 0.000909459072306792,\n",
       " 'x2_Lindi Rural': 0.0005929803646730444,\n",
       " 'x2_Lindi Urban': 7.480806918558575e-06,\n",
       " 'x2_Liwale': 0.00010281277268970849,\n",
       " 'x2_Longido': 0.00027777628265294947,\n",
       " 'x2_Ludewa': 0.00022862292153493703,\n",
       " 'x2_Lushoto': 0.0003817174895716459,\n",
       " 'x2_Mafia': 0.00040109519137719477,\n",
       " 'x2_Magu': 0.001391859729345523,\n",
       " 'x2_Makete': 0.0003633500414682901,\n",
       " 'x2_Manyoni': 0.0007882929795885606,\n",
       " 'x2_Masasi': 0.000635802975126601,\n",
       " 'x2_Maswa': 0.000902590357561734,\n",
       " 'x2_Mbarali': 0.0005326561098571671,\n",
       " 'x2_Mbeya Rural': 0.000359714588625241,\n",
       " 'x2_Mbinga': 0.00044800272979434233,\n",
       " 'x2_Mbozi': 0.000983185034329865,\n",
       " 'x2_Mbulu': 0.00047185850838917475,\n",
       " 'x2_Meatu': 0.0005269025367253222,\n",
       " 'x2_Meru': 0.0007650266917627137,\n",
       " 'x2_Misenyi': 0.000626527976306339,\n",
       " 'x2_Missungwi': 0.0006279736330826697,\n",
       " 'x2_Mkinga': 0.0006031120863039779,\n",
       " 'x2_Mkuranga': 0.00071299720248478,\n",
       " 'x2_Monduli': 0.0005313811476482734,\n",
       " 'x2_Morogoro Rural': 0.0006814340620559911,\n",
       " 'x2_Morogoro Urban': 0.0003354823827906863,\n",
       " 'x2_Moshi Rural': 0.0009941277175975012,\n",
       " 'x2_Moshi Urban': 0.00011946477473384546,\n",
       " 'x2_Mpanda': 0.001001264293492994,\n",
       " 'x2_Mpwapwa': 0.0010180712140695522,\n",
       " 'x2_Mtwara Rural': 0.00034283167847177397,\n",
       " 'x2_Mtwara Urban': 0.00015509906272088457,\n",
       " 'x2_Mufindi': 0.0005631870301642769,\n",
       " 'x2_Muheza': 0.0004208456149792477,\n",
       " 'x2_Muleba': 0.0006719966929553597,\n",
       " 'x2_Musoma Rural': 0.0007719160761969133,\n",
       " 'x2_Mvomero': 0.0014587093782299076,\n",
       " 'x2_Mwanga': 0.0006729839531244094,\n",
       " 'x2_Nachingwea': 0.0005119436457634115,\n",
       " 'x2_Namtumbo': 0.0005518450868038776,\n",
       " 'x2_Nanyumbu': 0.00020678616091310127,\n",
       " 'x2_Newala': 0.0007113730608643299,\n",
       " 'x2_Ngara': 0.0011685916681374075,\n",
       " 'x2_Ngorongoro': 0.00042138999791460494,\n",
       " 'x2_Njombe': 0.0011931800093358447,\n",
       " 'x2_Nkasi': 0.0007753105350884802,\n",
       " 'x2_Nyamagana': 3.074978107451017e-05,\n",
       " 'x2_Nzega': 0.0006474465526809547,\n",
       " 'x2_Pangani': 0.0006088773646589856,\n",
       " 'x2_Rombo': 0.0012118648468674663,\n",
       " 'x2_Rorya': 0.0003451151931504573,\n",
       " 'x2_Ruangwa': 0.0008624714074174637,\n",
       " 'x2_Rufiji': 0.0007968733376254546,\n",
       " 'x2_Rungwe': 0.0011984032918663263,\n",
       " 'x2_Same': 0.0009038118774490277,\n",
       " 'x2_Sengerema': 0.0010537512350866866,\n",
       " 'x2_Serengeti': 0.000940597494937578,\n",
       " 'x2_Shinyanga Rural': 0.0009318631057672869,\n",
       " 'x2_Shinyanga Urban': 0.00034610841346564635,\n",
       " 'x2_Siha': 0.0003628661183549661,\n",
       " 'x2_Sikonge': 0.00017910745787983587,\n",
       " 'x2_Simanjiro': 0.0005149251717930439,\n",
       " 'x2_Singida Rural': 0.0009561503364503662,\n",
       " 'x2_Singida Urban': 0.00025133364190205003,\n",
       " 'x2_Songea Rural': 0.0005053337067300333,\n",
       " 'x2_Songea Urban': 5.397007876831522e-05,\n",
       " 'x2_Sumbawanga Rural': 0.0007162133276468927,\n",
       " 'x2_Sumbawanga Urban': 0.0002458726793368636,\n",
       " 'x2_Tabora Urban': 0.00011823201201673967,\n",
       " 'x2_Tandahimba': 0.00019143070596540536,\n",
       " 'x2_Tanga': 0.00025265424019066553,\n",
       " 'x2_Tarime': 0.00031460975235896656,\n",
       " 'x2_Temeke': 0.00021447341380326606,\n",
       " 'x2_Tunduru': 0.0005532076137979863,\n",
       " 'x2_Ukerewe': 0.0006746071173499916,\n",
       " 'x2_Ulanga': 0.0006091527314252669,\n",
       " 'x2_Urambo': 0.0004822310279297433,\n",
       " 'x2_Uyui': 0.0007403977939836664,\n",
       " 'x3_Company': 0.0012695513682863058,\n",
       " 'x3_None': 0.0027692185135292646,\n",
       " 'x3_Other': 0.0008434255363601399,\n",
       " 'x3_Parastatal': 0.0012876274828204205,\n",
       " 'x3_Private operator': 0.001064000074054876,\n",
       " 'x3_SWC': 8.915842045565403e-05,\n",
       " 'x3_Trust': 0.00022243936584934724,\n",
       " 'x3_VWC': 0.0064111311988302305,\n",
       " 'x3_WUA': 0.0016456497618229124,\n",
       " 'x3_WUG': 0.0027507730504276306,\n",
       " 'x3_Water Board': 0.0022309089968565047,\n",
       " 'x3_Water authority': 0.00259053525986754,\n",
       " 'x4_afridev': 0.0012533319084708863,\n",
       " 'x4_cemo': 0.00013798980195762749,\n",
       " 'x4_climax': 3.0061060293476377e-05,\n",
       " 'x4_gravity': 0.0032619380355019423,\n",
       " 'x4_india mark ii': 0.001392033205517621,\n",
       " 'x4_india mark iii': 0.0002593437225022401,\n",
       " 'x4_ksb': 0.0017078893391982383,\n",
       " 'x4_mono': 0.0018430992324886286,\n",
       " 'x4_nira/tanira': 0.0037155433909142,\n",
       " 'x4_other': 0.008817552187157735,\n",
       " 'x4_other - mkulima/shinyanga': 2.999204421259764e-05,\n",
       " 'x4_other - play pump': 0.0001422080437965796,\n",
       " 'x4_other - rope pump': 0.0004184782844150374,\n",
       " 'x4_other - swn 81': 0.0003804855430868531,\n",
       " 'x4_submersible': 0.0017228809438222799,\n",
       " 'x4_swn 80': 0.0018745911345538796,\n",
       " 'x4_walimi': 0.0001556233710519247,\n",
       " 'x4_windmill': 0.00015855067458197834,\n",
       " 'x5_afridev': 0.0013762677077413467,\n",
       " 'x5_gravity': 0.0022564737870219135,\n",
       " 'x5_india mark ii': 0.0014553327110935338,\n",
       " 'x5_india mark iii': 0.0002197055603570588,\n",
       " 'x5_mono': 0.0017326149782276562,\n",
       " 'x5_nira/tanira': 0.002909682508000698,\n",
       " 'x5_other': 0.012350688957993024,\n",
       " 'x5_other handpump': 0.0005724352935547033,\n",
       " 'x5_other motorpump': 0.00013639032197046414,\n",
       " 'x5_rope pump': 0.0004797077667220891,\n",
       " 'x5_submersible': 0.0019870519889174255,\n",
       " 'x5_swn 80': 0.0018659852959139172,\n",
       " 'x5_wind-powered': 0.00016565875856270276,\n",
       " 'x6_gravity': 0.003958256846476025,\n",
       " 'x6_handpump': 0.004373848758837459,\n",
       " 'x6_motorpump': 0.0012734913745227994,\n",
       " 'x6_other': 0.013259939728136258,\n",
       " 'x6_rope pump': 0.00042158117910935216,\n",
       " 'x6_submersible': 0.0018497508554368475,\n",
       " 'x6_wind-powered': 0.0001526479898860919,\n",
       " 'x7_company': 0.0011796186305094874,\n",
       " 'x7_other': 0.0008403229474647576,\n",
       " 'x7_other - school': 9.287885732354525e-05,\n",
       " 'x7_parastatal': 0.0013789114078865711,\n",
       " 'x7_private operator': 0.0019929088645019555,\n",
       " 'x7_trust': 0.00024656810930606476,\n",
       " 'x7_unknown': 0.0006427259657222087,\n",
       " 'x7_vwc': 0.006427739977193462,\n",
       " 'x7_water authority': 0.0009564690379488849,\n",
       " 'x7_water board': 0.001728727562054711,\n",
       " 'x7_wua': 0.0015172846303172784,\n",
       " 'x7_wug': 0.0029566100208937443,\n",
       " 'x8_commercial': 0.002903065947185147,\n",
       " 'x8_other': 0.0008425211813718769,\n",
       " 'x8_parastatal': 0.0013981825411534712,\n",
       " 'x8_unknown': 0.000661955677098521,\n",
       " 'x8_user-group': 0.0037486931267505462,\n",
       " 'x9_never pay': 0.007351904211051356,\n",
       " 'x9_other': 0.000840424838780629,\n",
       " 'x9_pay annually': 0.0020834114293586926,\n",
       " 'x9_pay monthly': 0.003133216145067748,\n",
       " 'x9_pay per bucket': 0.004216990799518002,\n",
       " 'x9_pay when scheme fails': 0.0019093355391433886,\n",
       " 'x9_unknown': 0.0034172021996443707,\n",
       " 'x10_annually': 0.0021875222714661294,\n",
       " 'x10_monthly': 0.002894053639155663,\n",
       " 'x10_never pay': 0.007172302077616545,\n",
       " 'x10_on failure': 0.00204389536671711,\n",
       " 'x10_other': 0.0008812156604886938,\n",
       " 'x10_per bucket': 0.003946696580779594,\n",
       " 'x10_unknown': 0.0035722386460377772,\n",
       " 'x11_coloured': 0.0006681844380445181,\n",
       " 'x11_fluoride': 0.00041870155098385837,\n",
       " 'x11_fluoride abandoned': 6.016016757953402e-05,\n",
       " 'x11_milky': 0.0008558833130471526,\n",
       " 'x11_salty': 0.0027299026439867534,\n",
       " 'x11_salty abandoned': 0.0007135243417217667,\n",
       " 'x11_soft': 0.004016617884841434,\n",
       " 'x11_unknown': 0.003774022912419174,\n",
       " 'x12_colored': 0.0006550115669614278,\n",
       " 'x12_fluoride': 0.0004464478154828962,\n",
       " 'x12_good': 0.0044364470013929375,\n",
       " 'x12_milky': 0.0009306094910017745,\n",
       " 'x12_salty': 0.002872934663107518,\n",
       " 'x12_unknown': 0.003704295198259521,\n",
       " 'x13_dry': 0.041399769088296554,\n",
       " 'x13_enough': 0.014270857118355506,\n",
       " 'x13_insufficient': 0.007471528440585083,\n",
       " 'x13_seasonal': 0.0031370890928274667,\n",
       " 'x13_unknown': 0.0010123943880324174,\n",
       " 'x14_dry': 0.04449061415889316,\n",
       " 'x14_enough': 0.011972225627735566,\n",
       " 'x14_insufficient': 0.007126987671125475,\n",
       " 'x14_seasonal': 0.003597262976306727,\n",
       " 'x14_unknown': 0.0011133197167768507,\n",
       " 'x15_dam': 0.0009335307981689593,\n",
       " 'x15_hand dtw': 0.0008639025519683324,\n",
       " 'x15_lake': 0.0015145170806484373,\n",
       " 'x15_machine dbh': 0.002952366001064056,\n",
       " 'x15_other': 0.0002614694705175621,\n",
       " 'x15_rainwater harvesting': 0.002561068133997623,\n",
       " 'x15_river': 0.0024316473784297713,\n",
       " 'x15_shallow well': 0.003457087083189107,\n",
       " 'x15_spring': 0.0033257350234730887,\n",
       " 'x15_unknown': 0.00017405866154610874,\n",
       " 'x16_borehole': 0.0033045958300308,\n",
       " 'x16_dam': 0.0008328166613265224,\n",
       " 'x16_other': 0.00038719356507642524,\n",
       " 'x16_rainwater harvesting': 0.00239392230790266,\n",
       " 'x16_river/lake': 0.0027728094872486275,\n",
       " 'x16_shallow well': 0.0026008494231472027,\n",
       " 'x16_spring': 0.003923699270192591,\n",
       " 'x17_groundwater': 0.0029989536598242178,\n",
       " 'x17_surface': 0.0028666021306057786,\n",
       " 'x17_unknown': 0.0003726508872649583,\n",
       " 'x18_cattle trough': 0.00023409771074840726,\n",
       " 'x18_communal standpipe': 0.008598663446368527,\n",
       " 'x18_communal standpipe multiple': 0.007655690610019734,\n",
       " 'x18_dam': 8.973072178545825e-06,\n",
       " 'x18_hand pump': 0.0023883222254712402,\n",
       " 'x18_improved spring': 0.0010453412204583412,\n",
       " 'x18_other': 0.01320038670564103,\n",
       " 'x19_cattle trough': 0.00022973122148887563,\n",
       " 'x19_communal standpipe': 0.003460920862177999,\n",
       " 'x19_dam': 1.0952721827589193e-05,\n",
       " 'x19_hand pump': 0.0037501910054550734,\n",
       " 'x19_improved spring': 0.0009801185515303744,\n",
       " 'x19_other': 0.013866688248803636,\n",
       " 'amount_tsh': 0.02363068076768278,\n",
       " 'longitude': 0.1974708752213641,\n",
       " 'latitude': 0.19762358578920278}"
      ]
     },
     "execution_count": 160,
     "metadata": {},
     "output_type": "execute_result"
    }
   ],
   "source": [
    "feature_dict = dict(zip(feature_names,pipe_rf.steps[1][1].feature_importances_))\n",
    "feature_dict"
   ]
  },
  {
   "cell_type": "code",
   "execution_count": 276,
   "metadata": {},
   "outputs": [
    {
     "data": {
      "text/plain": [
       "{'latitude': 0.19762358578920278,\n",
       " 'longitude': 0.1974708752213641,\n",
       " 'x14_dry': 0.04449061415889316,\n",
       " 'x13_dry': 0.041399769088296554,\n",
       " 'amount_tsh': 0.02363068076768278,\n",
       " 'x13_enough': 0.014270857118355506,\n",
       " 'x19_other': 0.013866688248803636,\n",
       " 'x6_other': 0.013259939728136258,\n",
       " 'x18_other': 0.01320038670564103,\n",
       " 'x5_other': 0.012350688957993024,\n",
       " 'x14_enough': 0.011972225627735566,\n",
       " 'x4_other': 0.008817552187157735,\n",
       " 'x18_communal standpipe': 0.008598663446368527,\n",
       " 'x18_communal standpipe multiple': 0.007655690610019734,\n",
       " 'x13_insufficient': 0.007471528440585083,\n",
       " 'x9_never pay': 0.007351904211051356,\n",
       " 'x10_never pay': 0.007172302077616545,\n",
       " 'x14_insufficient': 0.007126987671125475,\n",
       " 'x7_vwc': 0.006427739977193462,\n",
       " 'x3_VWC': 0.0064111311988302305,\n",
       " 'x12_good': 0.0044364470013929375,\n",
       " 'x6_handpump': 0.004373848758837459,\n",
       " 'x0_Internal': 0.004249635294397986,\n",
       " 'x9_pay per bucket': 0.004216990799518002,\n",
       " 'x11_soft': 0.004016617884841434,\n",
       " 'x1_Iringa': 0.00396496982598268,\n",
       " 'x6_gravity': 0.003958256846476025,\n",
       " 'x10_per bucket': 0.003946696580779594,\n",
       " 'x16_spring': 0.003923699270192591,\n",
       " 'x11_unknown': 0.003774022912419174,\n",
       " 'x19_hand pump': 0.0037501910054550734,\n",
       " 'x8_user-group': 0.0037486931267505462,\n",
       " 'x0_Lake Victoria': 0.003730577308571516,\n",
       " 'x4_nira/tanira': 0.0037155433909142,\n",
       " 'x12_unknown': 0.003704295198259521,\n",
       " 'x14_seasonal': 0.003597262976306727,\n",
       " 'x10_unknown': 0.0035722386460377772,\n",
       " 'x19_communal standpipe': 0.003460920862177999,\n",
       " 'x15_shallow well': 0.003457087083189107,\n",
       " 'x9_unknown': 0.0034172021996443707,\n",
       " 'x15_spring': 0.0033257350234730887,\n",
       " 'x0_Rufiji': 0.003324321215998921,\n",
       " 'x16_borehole': 0.0033045958300308,\n",
       " 'x4_gravity': 0.0032619380355019423,\n",
       " 'x0_Lake Tanganyika': 0.0032138702283064247,\n",
       " 'x13_seasonal': 0.0031370890928274667,\n",
       " 'x9_pay monthly': 0.003133216145067748,\n",
       " 'x0_Pangani': 0.003043854746350487,\n",
       " 'x17_groundwater': 0.0029989536598242178,\n",
       " 'x7_wug': 0.0029566100208937443,\n",
       " 'x15_machine dbh': 0.002952366001064056,\n",
       " 'x5_nira/tanira': 0.002909682508000698,\n",
       " 'x8_commercial': 0.002903065947185147,\n",
       " 'x10_monthly': 0.002894053639155663,\n",
       " 'x12_salty': 0.002872934663107518,\n",
       " 'x0_Wami / Ruvu': 0.00287164660712094,\n",
       " 'x17_surface': 0.0028666021306057786,\n",
       " 'x1_Shinyanga': 0.002805092923716653,\n",
       " 'x16_river/lake': 0.0027728094872486275,\n",
       " 'x3_None': 0.0027692185135292646,\n",
       " 'x0_Lake Rukwa': 0.00276265124011159,\n",
       " 'x3_WUG': 0.0027507730504276306,\n",
       " 'x11_salty': 0.0027299026439867534,\n",
       " 'x0_Lake Nyasa': 0.0027006675779902667,\n",
       " 'x2_Bariadi': 0.002694344405791315,\n",
       " 'x16_shallow well': 0.0026008494231472027,\n",
       " 'x3_Water authority': 0.00259053525986754,\n",
       " 'x15_rainwater harvesting': 0.002561068133997623,\n",
       " 'x15_river': 0.0024316473784297713,\n",
       " 'x16_rainwater harvesting': 0.00239392230790266,\n",
       " 'x18_hand pump': 0.0023883222254712402,\n",
       " 'x1_Kigoma': 0.0023875825682809428,\n",
       " 'x1_Mara': 0.0023092311859106507,\n",
       " 'x5_gravity': 0.0022564737870219135,\n",
       " 'x1_Morogoro': 0.0022418028338343915,\n",
       " 'x1_Arusha': 0.002239346601690887,\n",
       " 'x1_Dodoma': 0.0022322772087926598,\n",
       " 'x3_Water Board': 0.0022309089968565047,\n",
       " 'x0_Ruvuma / Southern Coast': 0.002215141707225968,\n",
       " 'x10_annually': 0.0021875222714661294,\n",
       " 'x9_pay annually': 0.0020834114293586926,\n",
       " 'x10_on failure': 0.00204389536671711,\n",
       " 'x1_Mbeya': 0.002014963564027262,\n",
       " 'x1_Kilimanjaro': 0.0020148279291503524,\n",
       " 'x7_private operator': 0.0019929088645019555,\n",
       " 'x5_submersible': 0.0019870519889174255,\n",
       " 'x1_Kagera': 0.0019320519782584796,\n",
       " 'x9_pay when scheme fails': 0.0019093355391433886,\n",
       " 'x4_swn 80': 0.0018745911345538796,\n",
       " 'x5_swn 80': 0.0018659852959139172,\n",
       " 'x6_submersible': 0.0018497508554368475,\n",
       " 'x4_mono': 0.0018430992324886286,\n",
       " 'x1_Pwani': 0.0018335196168522312,\n",
       " 'x1_Mwanza': 0.0017643838811666052,\n",
       " 'x5_mono': 0.0017326149782276562,\n",
       " 'x7_water board': 0.001728727562054711,\n",
       " 'x2_Kigoma Rural': 0.0017235034657963535,\n",
       " 'x4_submersible': 0.0017228809438222799,\n",
       " 'x4_ksb': 0.0017078893391982383,\n",
       " 'x1_Singida': 0.00167668469513388,\n",
       " 'x3_WUA': 0.0016456497618229124,\n",
       " 'x1_Tanga': 0.001605955775429504,\n",
       " 'x1_Manyara': 0.0015346004893997723,\n",
       " 'x7_wua': 0.0015172846303172784,\n",
       " 'x15_lake': 0.0015145170806484373,\n",
       " 'x1_Rukwa': 0.001469163448772352,\n",
       " 'x2_Mvomero': 0.0014587093782299076,\n",
       " 'x5_india mark ii': 0.0014553327110935338,\n",
       " 'x2_Chunya': 0.001440601722595788,\n",
       " 'x2_Kilosa': 0.0014328953626122792,\n",
       " 'x8_parastatal': 0.0013981825411534712,\n",
       " 'x4_india mark ii': 0.001392033205517621,\n",
       " 'x2_Magu': 0.001391859729345523,\n",
       " 'x7_parastatal': 0.0013789114078865711,\n",
       " 'x5_afridev': 0.0013762677077413467,\n",
       " 'x1_Ruvuma': 0.0013387070389409839,\n",
       " 'x1_Tabora': 0.001334569056404794,\n",
       " 'x1_Mtwara': 0.0012941667682094468,\n",
       " 'x3_Parastatal': 0.0012876274828204205,\n",
       " 'x6_motorpump': 0.0012734913745227994,\n",
       " 'x3_Company': 0.0012695513682863058,\n",
       " 'x4_afridev': 0.0012533319084708863,\n",
       " 'x1_Lindi': 0.0012275008757971757,\n",
       " 'x2_Rombo': 0.0012118648468674663,\n",
       " 'x2_Rungwe': 0.0011984032918663263,\n",
       " 'x2_Njombe': 0.0011931800093358447,\n",
       " 'x7_company': 0.0011796186305094874,\n",
       " 'x2_Ngara': 0.0011685916681374075,\n",
       " 'x14_unknown': 0.0011133197167768507,\n",
       " 'x2_Arusha Rural': 0.0010874345699522464,\n",
       " 'x3_Private operator': 0.001064000074054876,\n",
       " 'x2_Kondoa': 0.0010639995219091619,\n",
       " 'x2_Sengerema': 0.0010537512350866866,\n",
       " 'x18_improved spring': 0.0010453412204583412,\n",
       " 'x2_Mpwapwa': 0.0010180712140695522,\n",
       " 'x13_unknown': 0.0010123943880324174,\n",
       " 'x2_Kibondo': 0.0010014008195576558,\n",
       " 'x2_Mpanda': 0.001001264293492994,\n",
       " 'x2_Moshi Rural': 0.0009941277175975012,\n",
       " 'x2_Mbozi': 0.000983185034329865,\n",
       " 'x19_improved spring': 0.0009801185515303744,\n",
       " 'x2_Kwimba': 0.0009574675445516016,\n",
       " 'x7_water authority': 0.0009564690379488849,\n",
       " 'x2_Singida Rural': 0.0009561503364503662,\n",
       " 'x2_Kahama': 0.000948582444239409,\n",
       " 'x2_Serengeti': 0.000940597494937578,\n",
       " 'x15_dam': 0.0009335307981689593,\n",
       " 'x2_Shinyanga Rural': 0.0009318631057672869,\n",
       " 'x12_milky': 0.0009306094910017745,\n",
       " 'x2_Kyela': 0.000909459072306792,\n",
       " 'x2_Same': 0.0009038118774490277,\n",
       " 'x2_Maswa': 0.000902590357561734,\n",
       " 'x10_other': 0.0008812156604886938,\n",
       " 'x2_Kasulu': 0.0008725551709536805,\n",
       " 'x15_hand dtw': 0.0008639025519683324,\n",
       " 'x2_Ruangwa': 0.0008624714074174637,\n",
       " 'x11_milky': 0.0008558833130471526,\n",
       " 'x3_Other': 0.0008434255363601399,\n",
       " 'x8_other': 0.0008425211813718769,\n",
       " 'x9_other': 0.000840424838780629,\n",
       " 'x7_other': 0.0008403229474647576,\n",
       " 'x16_dam': 0.0008328166613265224,\n",
       " 'x2_Rufiji': 0.0007968733376254546,\n",
       " 'x2_Manyoni': 0.0007882929795885606,\n",
       " 'x2_Nkasi': 0.0007753105350884802,\n",
       " 'x2_Musoma Rural': 0.0007719160761969133,\n",
       " 'x2_Meru': 0.0007650266917627137,\n",
       " 'x2_Geita': 0.0007634189540078687,\n",
       " 'x2_Bukoba Rural': 0.0007583895902711739,\n",
       " 'x2_Uyui': 0.0007403977939836664,\n",
       " 'x2_Kilombero': 0.0007335017174018712,\n",
       " 'x2_Korogwe': 0.0007227719294044035,\n",
       " 'x2_Sumbawanga Rural': 0.0007162133276468927,\n",
       " 'x11_salty abandoned': 0.0007135243417217667,\n",
       " 'x2_Mkuranga': 0.00071299720248478,\n",
       " 'x2_Newala': 0.0007113730608643299,\n",
       " 'x2_Morogoro Rural': 0.0006814340620559911,\n",
       " 'x2_Kongwa': 0.0006792149655068806,\n",
       " 'x2_Ukerewe': 0.0006746071173499916,\n",
       " 'x2_Mwanga': 0.0006729839531244094,\n",
       " 'x2_Muleba': 0.0006719966929553597,\n",
       " 'x11_coloured': 0.0006681844380445181,\n",
       " 'x8_unknown': 0.000661955677098521,\n",
       " 'x12_colored': 0.0006550115669614278,\n",
       " 'x2_Bunda': 0.0006545972571020717,\n",
       " 'x2_Bagamoyo': 0.0006537620890233793,\n",
       " 'x2_Babati': 0.0006514677892806339,\n",
       " 'x2_Nzega': 0.0006474465526809547,\n",
       " 'x7_unknown': 0.0006427259657222087,\n",
       " 'x2_Masasi': 0.000635802975126601,\n",
       " 'x2_Missungwi': 0.0006279736330826697,\n",
       " 'x2_Misenyi': 0.000626527976306339,\n",
       " 'x2_Karagwe': 0.0006197054287597451,\n",
       " 'x2_Ulanga': 0.0006091527314252669,\n",
       " 'x2_Pangani': 0.0006088773646589856,\n",
       " 'x2_Mkinga': 0.0006031120863039779,\n",
       " 'x2_Dodoma Urban': 0.0006022528183246785,\n",
       " 'x2_Lindi Rural': 0.0005929803646730444,\n",
       " 'x1_Dar es Salaam': 0.0005817541987117494,\n",
       " 'x5_other handpump': 0.0005724352935547033,\n",
       " 'x2_Kiteto': 0.00056421168581139,\n",
       " 'x2_Kisarawe': 0.0005634946682664243,\n",
       " 'x2_Mufindi': 0.0005631870301642769,\n",
       " 'x2_Kishapu': 0.0005613160143214572,\n",
       " 'x2_Biharamulo': 0.000559345963647449,\n",
       " 'x2_Tunduru': 0.0005532076137979863,\n",
       " 'x2_Namtumbo': 0.0005518450868038776,\n",
       " 'x2_Iramba': 0.0005340184172193653,\n",
       " 'x2_Mbarali': 0.0005326561098571671,\n",
       " 'x2_Monduli': 0.0005313811476482734,\n",
       " 'x2_Meatu': 0.0005269025367253222,\n",
       " 'x2_Kilolo': 0.0005265365608887232,\n",
       " 'x2_Simanjiro': 0.0005149251717930439,\n",
       " 'x2_Nachingwea': 0.0005119436457634115,\n",
       " 'x2_Songea Rural': 0.0005053337067300333,\n",
       " 'x2_Iringa Rural': 0.0004901814957826686,\n",
       " 'x2_Urambo': 0.0004822310279297433,\n",
       " 'x5_rope pump': 0.0004797077667220891,\n",
       " 'x2_Mbulu': 0.00047185850838917475,\n",
       " 'x2_Hanang': 0.00045313168457593615,\n",
       " 'x2_Chato': 0.00045074988529053746,\n",
       " 'x2_Mbinga': 0.00044800272979434233,\n",
       " 'x12_fluoride': 0.0004464478154828962,\n",
       " 'x2_Igunga': 0.00044523751475039055,\n",
       " 'x2_Ilala': 0.0004389261887801404,\n",
       " 'x2_Kilwa': 0.00042377423524410395,\n",
       " 'x6_rope pump': 0.00042158117910935216,\n",
       " 'x2_Ngorongoro': 0.00042138999791460494,\n",
       " 'x2_Muheza': 0.0004208456149792477,\n",
       " 'x11_fluoride': 0.00041870155098385837,\n",
       " 'x4_other - rope pump': 0.0004184782844150374,\n",
       " 'x2_Mafia': 0.00040109519137719477,\n",
       " 'x2_Karatu': 0.000398608677221804,\n",
       " 'x2_Chamwino': 0.00039770459619189167,\n",
       " 'x16_other': 0.00038719356507642524,\n",
       " 'x2_Ilemela': 0.00038404582881849367,\n",
       " 'x2_Kibaha': 0.0003831153573778012,\n",
       " 'x2_Lushoto': 0.0003817174895716459,\n",
       " 'x4_other - swn 81': 0.0003804855430868531,\n",
       " 'x17_unknown': 0.0003726508872649583,\n",
       " 'x2_Makete': 0.0003633500414682901,\n",
       " 'x2_Siha': 0.0003628661183549661,\n",
       " 'x2_Mbeya Rural': 0.000359714588625241,\n",
       " 'x2_Shinyanga Urban': 0.00034610841346564635,\n",
       " 'x2_Rorya': 0.0003451151931504573,\n",
       " 'x2_Mtwara Rural': 0.00034283167847177397,\n",
       " 'x2_Morogoro Urban': 0.0003354823827906863,\n",
       " 'x2_Bahi': 0.0003195119838104295,\n",
       " 'x2_Handeni': 0.00031905171234766473,\n",
       " 'x2_Ileje': 0.0003161584819258157,\n",
       " 'x2_Tarime': 0.00031460975235896656,\n",
       " 'x2_Kilindi': 0.00028447828782858644,\n",
       " 'x2_Longido': 0.00027777628265294947,\n",
       " 'x2_Hai': 0.0002749251087391361,\n",
       " 'x15_other': 0.0002614694705175621,\n",
       " 'x4_india mark iii': 0.0002593437225022401,\n",
       " 'x2_Bukoba Urban': 0.00025477335804776507,\n",
       " 'x2_Tanga': 0.00025265424019066553,\n",
       " 'x2_Singida Urban': 0.00025133364190205003,\n",
       " 'x7_trust': 0.00024656810930606476,\n",
       " 'x2_Sumbawanga Urban': 0.0002458726793368636,\n",
       " 'x2_Bukombe': 0.00024189927227311425,\n",
       " 'x18_cattle trough': 0.00023409771074840726,\n",
       " 'x19_cattle trough': 0.00022973122148887563,\n",
       " 'x2_Ludewa': 0.00022862292153493703,\n",
       " 'x3_Trust': 0.00022243936584934724,\n",
       " 'x5_india mark iii': 0.0002197055603570588,\n",
       " 'x2_Temeke': 0.00021447341380326606,\n",
       " 'x2_Nanyumbu': 0.00020678616091310127,\n",
       " 'x2_Tandahimba': 0.00019143070596540536,\n",
       " 'x2_Sikonge': 0.00017910745787983587,\n",
       " 'x15_unknown': 0.00017405866154610874,\n",
       " 'x5_wind-powered': 0.00016565875856270276,\n",
       " 'x4_windmill': 0.00015855067458197834,\n",
       " 'x4_walimi': 0.0001556233710519247,\n",
       " 'x2_Mtwara Urban': 0.00015509906272088457,\n",
       " 'x6_wind-powered': 0.0001526479898860919,\n",
       " 'x4_other - play pump': 0.0001422080437965796,\n",
       " 'x4_cemo': 0.00013798980195762749,\n",
       " 'x5_other motorpump': 0.00013639032197046414,\n",
       " 'x2_Kinondoni': 0.00013495356374700472,\n",
       " 'x2_Moshi Urban': 0.00011946477473384546,\n",
       " 'x2_Tabora Urban': 0.00011823201201673967,\n",
       " 'x2_Liwale': 0.00010281277268970849,\n",
       " 'x2_Arusha Urban': 0.00010001778069202245,\n",
       " 'x7_other - school': 9.287885732354525e-05,\n",
       " 'x3_SWC': 8.915842045565403e-05,\n",
       " 'x2_Kigoma Urban': 6.812629807765746e-05,\n",
       " 'x11_fluoride abandoned': 6.016016757953402e-05,\n",
       " 'x2_Songea Urban': 5.397007876831522e-05,\n",
       " 'x2_Nyamagana': 3.074978107451017e-05,\n",
       " 'x4_climax': 3.0061060293476377e-05,\n",
       " 'x4_other - mkulima/shinyanga': 2.999204421259764e-05,\n",
       " 'x19_dam': 1.0952721827589193e-05,\n",
       " 'x18_dam': 8.973072178545825e-06,\n",
       " 'x2_Lindi Urban': 7.480806918558575e-06}"
      ]
     },
     "execution_count": 276,
     "metadata": {},
     "output_type": "execute_result"
    }
   ],
   "source": [
    "feature_dict_sorted = {k: v for k, v in sorted(feature_dict.items(), key=lambda item: item[1], reverse = True)}\n",
    "feature_dict_sorted"
   ]
  },
  {
   "cell_type": "code",
   "execution_count": 277,
   "metadata": {},
   "outputs": [],
   "source": [
    "names = list(feature_dict_sorted.keys())[:9]\n",
    "vals = list(feature_dict_sorted.values())[:9]"
   ]
  },
  {
   "cell_type": "code",
   "execution_count": 278,
   "metadata": {},
   "outputs": [
    {
     "data": {
      "text/plain": [
       "<BarContainer object of 9 artists>"
      ]
     },
     "execution_count": 278,
     "metadata": {},
     "output_type": "execute_result"
    },
    {
     "data": {
      "image/png": "[encoded data removed]",
      "text/plain": [
       "<Figure size 720x720 with 1 Axes>"
      ]
     },
     "metadata": {
      "needs_background": "light"
     },
     "output_type": "display_data"
    }
   ],
   "source": [
    "import matplotlib.pyplot as plt\n",
    "\n",
    "plt.subplots(figsize = (10,10))\n",
    "plt.barh(names, vals)"
   ]
  },
  {
   "cell_type": "code",
   "execution_count": 168,
   "metadata": {
    "scrolled": false
   },
   "outputs": [
    {
     "ename": "TypeError",
     "evalue": "barh() missing 1 required positional argument: 'width'",
     "output_type": "error",
     "traceback": [
      "\u001b[1;31m---------------------------------------------------------------------------\u001b[0m",
      "\u001b[1;31mTypeError\u001b[0m                                 Traceback (most recent call last)",
      "\u001b[1;32m<ipython-input-168-145827f75792>\u001b[0m in \u001b[0;36m<module>\u001b[1;34m\u001b[0m\n\u001b[0;32m      7\u001b[0m     \u001b[0mplt\u001b[0m\u001b[1;33m.\u001b[0m\u001b[0mylabel\u001b[0m\u001b[1;33m(\u001b[0m\u001b[1;34m'Feature'\u001b[0m\u001b[1;33m)\u001b[0m\u001b[1;33m\u001b[0m\u001b[1;33m\u001b[0m\u001b[0m\n\u001b[0;32m      8\u001b[0m \u001b[1;33m\u001b[0m\u001b[0m\n\u001b[1;32m----> 9\u001b[1;33m \u001b[0mplot_feature_importances\u001b[0m\u001b[1;33m(\u001b[0m\u001b[0mpipe_rf\u001b[0m\u001b[1;33m.\u001b[0m\u001b[0msteps\u001b[0m\u001b[1;33m[\u001b[0m\u001b[1;36m1\u001b[0m\u001b[1;33m]\u001b[0m\u001b[1;33m[\u001b[0m\u001b[1;36m1\u001b[0m\u001b[1;33m]\u001b[0m\u001b[1;33m)\u001b[0m\u001b[1;33m\u001b[0m\u001b[1;33m\u001b[0m\u001b[0m\n\u001b[0m",
      "\u001b[1;32m<ipython-input-168-145827f75792>\u001b[0m in \u001b[0;36mplot_feature_importances\u001b[1;34m(model)\u001b[0m\n\u001b[0;32m      2\u001b[0m     \u001b[0mn_features\u001b[0m \u001b[1;33m=\u001b[0m \u001b[0mfeature_names\u001b[0m\u001b[1;33m\u001b[0m\u001b[1;33m\u001b[0m\u001b[0m\n\u001b[0;32m      3\u001b[0m     \u001b[0mplt\u001b[0m\u001b[1;33m.\u001b[0m\u001b[0mfigure\u001b[0m\u001b[1;33m(\u001b[0m\u001b[0mfigsize\u001b[0m\u001b[1;33m=\u001b[0m\u001b[1;33m(\u001b[0m\u001b[1;36m8\u001b[0m\u001b[1;33m,\u001b[0m\u001b[1;36m8\u001b[0m\u001b[1;33m)\u001b[0m\u001b[1;33m)\u001b[0m\u001b[1;33m\u001b[0m\u001b[1;33m\u001b[0m\u001b[0m\n\u001b[1;32m----> 4\u001b[1;33m     \u001b[0mplt\u001b[0m\u001b[1;33m.\u001b[0m\u001b[0mbarh\u001b[0m\u001b[1;33m(\u001b[0m\u001b[0mfeature_dict_sorted\u001b[0m\u001b[1;33m,\u001b[0m \u001b[0malign\u001b[0m\u001b[1;33m=\u001b[0m\u001b[1;34m'center'\u001b[0m\u001b[1;33m)\u001b[0m\u001b[1;33m\u001b[0m\u001b[1;33m\u001b[0m\u001b[0m\n\u001b[0m\u001b[0;32m      5\u001b[0m     \u001b[1;31m#plt.yticks(np.arange(n_features), X_train.columns.values)\u001b[0m\u001b[1;33m\u001b[0m\u001b[1;33m\u001b[0m\u001b[1;33m\u001b[0m\u001b[0m\n\u001b[0;32m      6\u001b[0m     \u001b[0mplt\u001b[0m\u001b[1;33m.\u001b[0m\u001b[0mxlabel\u001b[0m\u001b[1;33m(\u001b[0m\u001b[1;34m'Feature importance'\u001b[0m\u001b[1;33m)\u001b[0m\u001b[1;33m\u001b[0m\u001b[1;33m\u001b[0m\u001b[0m\n",
      "\u001b[1;31mTypeError\u001b[0m: barh() missing 1 required positional argument: 'width'"
     ]
    },
    {
     "data": {
      "text/plain": [
       "<Figure size 576x576 with 0 Axes>"
      ]
     },
     "metadata": {},
     "output_type": "display_data"
    }
   ],
   "source": [
    "def plot_feature_importances(model):\n",
    "    n_features = feature_names\n",
    "    plt.figure(figsize=(8,8))\n",
    "    plt.barh(feature_dict_sorted, align='center') \n",
    "    #plt.yticks(np.arange(n_features), X_train.columns.values) \n",
    "    plt.xlabel('Feature importance')\n",
    "    plt.ylabel('Feature')\n",
    "\n",
    "plot_feature_importances(pipe_rf.steps[1][1])"
   ]
  },
  {
   "cell_type": "code",
   "execution_count": 75,
   "metadata": {},
   "outputs": [
    {
     "ename": "NameError",
     "evalue": "name 'plot_feature_importances' is not defined",
     "output_type": "error",
     "traceback": [
      "\u001b[1;31m---------------------------------------------------------------------------\u001b[0m",
      "\u001b[1;31mNameError\u001b[0m                                 Traceback (most recent call last)",
      "\u001b[1;32m<ipython-input-75-2210be8d5775>\u001b[0m in \u001b[0;36m<module>\u001b[1;34m\u001b[0m\n\u001b[1;32m----> 1\u001b[1;33m \u001b[0mplot_feature_importances\u001b[0m\u001b[1;33m(\u001b[0m\u001b[0my_hat_test\u001b[0m\u001b[1;33m)\u001b[0m\u001b[1;33m\u001b[0m\u001b[1;33m\u001b[0m\u001b[0m\n\u001b[0m",
      "\u001b[1;31mNameError\u001b[0m: name 'plot_feature_importances' is not defined"
     ]
    }
   ],
   "source": [
    "plot_feature_importances(y_hat_test)"
   ]
  },
  {
   "cell_type": "code",
   "execution_count": null,
   "metadata": {},
   "outputs": [],
   "source": [
    "param_grid = {\n",
    "    'rf__n_neighbors': [15],\n",
    "    'rf__weights': ['distance'],\n",
    "    'rf__leaf_size': [40],\n",
    "    'rf__p': [1]\n",
    "}\n",
    "\n",
    "search = GridSearchCV(pipe_rf, param_grid, n_jobs=-1)\n",
    "search.fit(X_train, y_train)\n",
    "\n",
    "print(\"Best parameter (CV score=%0.3f):\" % search.best_score_)\n",
    "print(search.best_params_)"
   ]
  },
  {
   "cell_type": "markdown",
   "metadata": {},
   "source": [
    "### Bagging Classifier"
   ]
  },
  {
   "cell_type": "code",
   "execution_count": 71,
   "metadata": {},
   "outputs": [
    {
     "data": {
      "text/plain": [
       "Pipeline(steps=[('trsfm',\n",
       "                 ColumnTransformer(transformers=[('ohe',\n",
       "                                                  OneHotEncoder(handle_unknown='ignore',\n",
       "                                                                sparse=False),\n",
       "                                                  ['basin', 'region', 'lga',\n",
       "                                                   'scheme_management',\n",
       "                                                   'extraction_type',\n",
       "                                                   'extraction_type_group',\n",
       "                                                   'extraction_type_class',\n",
       "                                                   'management',\n",
       "                                                   'management_group',\n",
       "                                                   'payment', 'payment_type',\n",
       "                                                   'water_quality',\n",
       "                                                   'quality_group', 'quantity',\n",
       "                                                   'quantity_group', 'source',\n",
       "                                                   'source_type',\n",
       "                                                   'source_class',\n",
       "                                                   'waterpoint_type',\n",
       "                                                   'waterpoint_type_group']),\n",
       "                                                 ('ss', StandardScaler(),\n",
       "                                                  ['amount_tsh', 'longitude',\n",
       "                                                   'latitude'])])),\n",
       "                ('bag', BaggingClassifier())])"
      ]
     },
     "execution_count": 71,
     "metadata": {},
     "output_type": "execute_result"
    }
   ],
   "source": [
    "from sklearn.ensemble import BaggingClassifier\n",
    "\n",
    "pipe_bag = Pipeline([('trsfm',clmntr),('bag',BaggingClassifier())])#\n",
    "pipe_bag.fit(X_train,y_train)"
   ]
  },
  {
   "cell_type": "code",
   "execution_count": 72,
   "metadata": {},
   "outputs": [
    {
     "name": "stdout",
     "output_type": "stream",
     "text": [
      "Evaluation Metrics: Train Data\n",
      "\n",
      "              precision    recall  f1-score   support\n",
      "\n",
      "           0       0.98      0.99      0.98     15366\n",
      "           1       0.95      0.92      0.94      2892\n",
      "           2       0.98      0.98      0.98     21540\n",
      "\n",
      "    accuracy                           0.98     39798\n",
      "   macro avg       0.97      0.96      0.97     39798\n",
      "weighted avg       0.98      0.98      0.98     39798\n",
      "\n",
      "---------------------------------------------\n",
      "\n",
      "Evaluation Metrics: Test Data\n",
      "\n",
      "              precision    recall  f1-score   support\n",
      "\n",
      "           0       0.77      0.78      0.78      7458\n",
      "           1       0.42      0.39      0.40      1425\n",
      "           2       0.81      0.82      0.82     10719\n",
      "\n",
      "    accuracy                           0.77     19602\n",
      "   macro avg       0.67      0.66      0.67     19602\n",
      "weighted avg       0.77      0.77      0.77     19602\n",
      "\n"
     ]
    },
    {
     "data": {
      "text/plain": [
       "<sklearn.metrics._plot.confusion_matrix.ConfusionMatrixDisplay at 0x1c1876e8be0>"
      ]
     },
     "execution_count": 72,
     "metadata": {},
     "output_type": "execute_result"
    },
    {
     "data": {
      "image/png": "[encoded data removed]",
      "text/plain": [
       "<Figure size 432x288 with 2 Axes>"
      ]
     },
     "metadata": {},
     "output_type": "display_data"
    }
   ],
   "source": [
    "y_hat_train = pipe_bag.predict(X_train)\n",
    "y_hat_test = pipe_bag.predict(X_test)\n",
    "\n",
    "print('Evaluation Metrics: Train Data\\n')\n",
    "print(classification_report(y_train,y_hat_train))\n",
    "print('---------------------------------------------\\n')\n",
    "print('Evaluation Metrics: Test Data\\n')\n",
    "print(classification_report(y_test,y_hat_test))\n",
    "\n",
    "plot_confusion_matrix(pipe_bag,X_train,y_train)"
   ]
  },
  {
   "cell_type": "code",
   "execution_count": null,
   "metadata": {},
   "outputs": [],
   "source": [
    "param_grid = {\n",
    "    'rf__n_neighbors': [15],\n",
    "    'rf__weights': ['distance'],\n",
    "    'rf__leaf_size': [40],\n",
    "    'rf__p': [1]\n",
    "}\n",
    "\n",
    "search = GridSearchCV(pipe_bag, param_grid, n_jobs=-1)\n",
    "search.fit(X_train, y_train)\n",
    "\n",
    "print(\"Best parameter (CV score=%0.3f):\" % search.best_score_)\n",
    "print(search.best_params_)"
   ]
  },
  {
   "cell_type": "markdown",
   "metadata": {},
   "source": [
    "### Gradient Boosting"
   ]
  },
  {
   "cell_type": "code",
   "execution_count": null,
   "metadata": {},
   "outputs": [],
   "source": []
  },
  {
   "cell_type": "code",
   "execution_count": 71,
   "metadata": {},
   "outputs": [
    {
     "ename": "NameError",
     "evalue": "name 'pipeline' is not defined",
     "output_type": "error",
     "traceback": [
      "\u001b[1;31m---------------------------------------------------------------------------\u001b[0m",
      "\u001b[1;31mNameError\u001b[0m                                 Traceback (most recent call last)",
      "\u001b[1;32m<ipython-input-71-4b416387fe6e>\u001b[0m in \u001b[0;36m<module>\u001b[1;34m\u001b[0m\n\u001b[0;32m     13\u001b[0m \u001b[1;33m\u001b[0m\u001b[0m\n\u001b[0;32m     14\u001b[0m \u001b[1;32mfor\u001b[0m \u001b[0mclassifier\u001b[0m \u001b[1;32min\u001b[0m \u001b[0mclfs\u001b[0m\u001b[1;33m:\u001b[0m\u001b[1;33m\u001b[0m\u001b[1;33m\u001b[0m\u001b[0m\n\u001b[1;32m---> 15\u001b[1;33m     \u001b[0mpipeline\u001b[0m\u001b[1;33m.\u001b[0m\u001b[0mset_params\u001b[0m\u001b[1;33m(\u001b[0m\u001b[0mclf\u001b[0m \u001b[1;33m=\u001b[0m \u001b[0mclassifier\u001b[0m\u001b[1;33m)\u001b[0m\u001b[1;33m\u001b[0m\u001b[1;33m\u001b[0m\u001b[0m\n\u001b[0m\u001b[0;32m     16\u001b[0m     \u001b[0mscores\u001b[0m \u001b[1;33m=\u001b[0m \u001b[0mcross_validate\u001b[0m\u001b[1;33m(\u001b[0m\u001b[0mpipeline\u001b[0m\u001b[1;33m,\u001b[0m \u001b[0mX_train\u001b[0m\u001b[1;33m,\u001b[0m \u001b[0my_train\u001b[0m\u001b[1;33m)\u001b[0m\u001b[1;33m\u001b[0m\u001b[1;33m\u001b[0m\u001b[0m\n\u001b[0;32m     17\u001b[0m     \u001b[0mprint\u001b[0m\u001b[1;33m(\u001b[0m\u001b[1;34m'---------------------------------'\u001b[0m\u001b[1;33m)\u001b[0m\u001b[1;33m\u001b[0m\u001b[1;33m\u001b[0m\u001b[0m\n",
      "\u001b[1;31mNameError\u001b[0m: name 'pipeline' is not defined"
     ]
    }
   ],
   "source": [
    "from sklearn.linear_model import LogisticRegression\n",
    "from sklearn.svm import SVC\n",
    "from sklearn.neighbors import KNeighborsClassifier\n",
    "from sklearn.tree import DecisionTreeClassifier\n",
    "from sklearn.ensemble import RandomForestClassifier, GradientBoostingClassifier\n",
    "from sklearn.model_selection import cross_validate\n",
    "\n",
    "\n",
    "clfs = []\n",
    "clfs.append(DecisionTreeClassifier())\n",
    "clfs.append(RandomForestClassifier(n_jobs = 8))\n",
    "clfs.append(GradientBoostingClassifier())\n",
    "\n",
    "for classifier in clfs:\n",
    "    pipeline.set_params(clf = classifier)\n",
    "    scores = cross_validate(pipeline, X_train, y_train)\n",
    "    print('---------------------------------')\n",
    "    print(str(classifier))\n",
    "    print('-----------------------------------')\n",
    "    for key, values in scores.items():\n",
    "            print(key,' mean ', values.mean())\n",
    "            print(key,' std ', values.std())"
   ]
  },
  {
   "cell_type": "code",
   "execution_count": null,
   "metadata": {
    "scrolled": true
   },
   "outputs": [],
   "source": [
    "# Plot Distribution of Residuals\n",
    "fig6, ax = plt.subplots()\n",
    "\n",
    "sqft_mod1_residuals = sqft_mod1.resid\n",
    "sns.histplot(sqft_mod1_residuals).set_title(\"Distribution of Residuals\")\n",
    "plt.tight_layout()\n",
    "fig6.savefig('images/model_1_residuals.png');"
   ]
  },
  {
   "cell_type": "code",
   "execution_count": null,
   "metadata": {},
   "outputs": [],
   "source": [
    "# QQ-Plots\n",
    "fig7 = sm.graphics.qqplot(sqft_mod1_residuals, dist=stats.norm, line='45', fit=True)\n",
    "plt.tight_layout()\n",
    "fig7.savefig('images/model_1_qq.png');"
   ]
  },
  {
   "cell_type": "code",
   "execution_count": null,
   "metadata": {},
   "outputs": [],
   "source": [
    "# Residuals vs fitted Plot\n",
    "\n",
    "# model values\n",
    "model1_fitted_y = sqft_mod1.fittedvalues\n",
    "# model residuals\n",
    "model1_residuals = sqft_mod1.resid\n",
    "\n",
    "\n",
    "plot_lm_1 = sns.residplot(model1_fitted_y, model1_residuals, data=df,\n",
    "                          lowess=True,\n",
    "                          scatter_kws={'alpha': 0.5},\n",
    "                          line_kws={'color': 'red', 'lw': 1, 'alpha': 0.8})\n",
    "\n",
    "plot_lm_1.set_title('Residuals vs Fitted')\n",
    "plot_lm_1.set_xlabel('Fitted values')\n",
    "plot_lm_1.set_ylabel('Residuals')\n",
    "plt.tight_layout()\n",
    "plt.savefig('images/model_1_homoskedasticity.png');"
   ]
  },
  {
   "cell_type": "code",
   "execution_count": null,
   "metadata": {},
   "outputs": [],
   "source": [
    "# define the continuous and categorical variables in seperate lists\n",
    "continuous = None\n",
    "categorical = None"
   ]
  },
  {
   "cell_type": "code",
   "execution_count": null,
   "metadata": {},
   "outputs": [],
   "source": [
    "# Use StandardScalar to scale continuous variables\n",
    "continuous = ['price','sqft_living','sqft_above','sqft_living15','sqft_lot15']\n",
    "data_log_scaled = preprocessing.log_scaled(data=df,features=continuous)"
   ]
  },
  {
   "cell_type": "markdown",
   "metadata": {},
   "source": [
    "#### One-hot encoding the categorical variables with more than two categories. "
   ]
  },
  {
   "cell_type": "code",
   "execution_count": null,
   "metadata": {},
   "outputs": [],
   "source": [
    "# OneHotEncode all categorical variables\n",
    "categoricals = ['season']\n",
    "data_ohe = preprocessing.ohe_categoricals(data=df,features=categoricals)"
   ]
  },
  {
   "cell_type": "code",
   "execution_count": null,
   "metadata": {},
   "outputs": [],
   "source": [
    "# Concatonate the continuous and categorical variables.\n",
    "data_pp = pd.concat([data_log_scaled,data_ohe, df[['waterfront', 'has_bsmt', 'renovated', 'bedrooms', 'bathrooms', 'condition','floors','grade', 'view', 'north_south', 'age']]],axis=1)"
   ]
  },
  {
   "cell_type": "code",
   "execution_count": null,
   "metadata": {},
   "outputs": [],
   "source": [
    "formula = 'log_price ~ log_sqft_living'\n",
    "sqft_mod2 = ols(formula, data_pp).fit()\n",
    "sqft_mod2_summ = sqft_mod2.summary()\n",
    "sqft_mod2_summ"
   ]
  },
  {
   "cell_type": "markdown",
   "metadata": {},
   "source": [
    "GIven the R squared value of .455 and the P_value of 0 for the log_sqft_living, we can say that the square feet of the house is statistically significant in determining the price of a home. "
   ]
  },
  {
   "cell_type": "code",
   "execution_count": null,
   "metadata": {
    "scrolled": true
   },
   "outputs": [],
   "source": [
    "lr_model1 = LinearRegression()\n",
    "lr_model1.fit(data_pp[['log_sqft_living']], data_pp['log_price'])\n",
    "lr_model1.score(data_pp[['log_sqft_living']], data_pp['log_price'])"
   ]
  },
  {
   "cell_type": "markdown",
   "metadata": {},
   "source": [
    "Using sklearn above to double chek our R squared, we get the same R squared."
   ]
  },
  {
   "cell_type": "code",
   "execution_count": null,
   "metadata": {},
   "outputs": [],
   "source": [
    "#Check for Multicolinearity\n",
    "sns.set_theme(style=\"white\")\n",
    "\n",
    "# Compute the correlation matrix\n",
    "corr = df.corr()\n",
    "\n",
    "# Generate a mask for the upper triangle\n",
    "mask = np.triu(np.ones_like(corr, dtype=bool))\n",
    "\n",
    "# Set up the matplotlib figure\n",
    "fig10, ax = plt.subplots(figsize=(15, 12))\n",
    "\n",
    "# Generate a custom diverging colormap\n",
    "cmap = sns.diverging_palette(230, 20, as_cmap=True)\n",
    "\n",
    "# Draw the heatmap with the mask and correct aspect ratio\n",
    "sns.heatmap(corr, mask=mask, cmap=cmap,vmin=-1, vmax=1.0, center=0,\n",
    "            square=True, linewidths=.5, cbar_kws={\"shrink\": .9}, annot = True, fmt = '0.1g')\n",
    "ax.set_title('Multicollinearity',fontweight=\"bold\", size=20)\n",
    "plt.savefig('images/model_2_multicollinearity.png');"
   ]
  },
  {
   "cell_type": "markdown",
   "metadata": {},
   "source": [
    "There looks to be a number of variables that are highly correlated with eachother. Lets look a the pairs of variables that are highly correlated."
   ]
  },
  {
   "cell_type": "code",
   "execution_count": null,
   "metadata": {},
   "outputs": [],
   "source": [
    "#Lets look at the pairs of variables that are highly correlated\n",
    "\n",
    "dfcorr = df.corr().abs().stack().reset_index().sort_values(0, ascending=False)\n",
    "\n",
    "dfcorr['pairs'] = list(zip(dfcorr.level_0, dfcorr.level_1))\n",
    "\n",
    "dfcorr.set_index(['pairs'], inplace = True)\n",
    "\n",
    "dfcorr.drop(columns=['level_1', 'level_0'], inplace = True)\n",
    "\n",
    "# cc for correlation coefficient\n",
    "dfcorr.columns = ['cc']\n",
    "\n",
    "dfcorr.drop_duplicates(inplace=True)\n",
    "\n",
    "dfcorr[(dfcorr.cc>.75) & (dfcorr.cc<1)]"
   ]
  },
  {
   "cell_type": "markdown",
   "metadata": {},
   "source": [
    "It looks like sqft_living is highly correlated with a number of variables.\n",
    "\n",
    "- We will look to remove sqft_above from our next model because of its high correlation with sqft_living. Most home do not have a basement, so the sqft_above is close to the same as sqft_living. \n",
    "\n",
    "- We will also look to remove sqft_living15 from our next model. It is also highly coorelated. \n",
    "\n",
    "- north_south was created from the lat column, so we will remove lat from the model."
   ]
  },
  {
   "cell_type": "code",
   "execution_count": null,
   "metadata": {},
   "outputs": [],
   "source": [
    "#Get the model coefficients\n",
    "mult_model2_coeff = dict(zip(mult_model2.params.index,abs(mult_model2.params.values)))\n",
    "mult_model2_coeff = {k: v for k, v in sorted(mult_model2_coeff.items(), key=lambda item: item[1])}"
   ]
  },
  {
   "cell_type": "code",
   "execution_count": null,
   "metadata": {},
   "outputs": [],
   "source": [
    "#Create a dictionary that will show each coefficient for each variable\n",
    "def calculate_percentage(df_dict):\n",
    "    percents = []\n",
    "    for k,v in df_dict.items():\n",
    "        if k.startswith('log_'):\n",
    "            percent = ((1.1)**v - 1)*100\n",
    "        else:\n",
    "            percent = (np.exp(v) - 1)*100\n",
    "        percents.append(percent)\n",
    "    return percents\n",
    "mult_model2_coeff = dict(zip(mult_model2.params.index,abs(mult_model2.params.values)))\n",
    "mult_model2_coeff = {k: v for k, v in sorted(mult_model2_coeff.items(), key=lambda item: item[1])}\n",
    "percentages = calculate_percentage(mult_model2_coeff)\n",
    "percentages_dict = dict(zip(mult_model2_coeff.keys(),percentages))\n",
    "percentages_dict"
   ]
  },
  {
   "cell_type": "markdown",
   "metadata": {},
   "source": [
    "This is the final model we will use in our presentation because we are not violating model assumptions and we have a good set of variables with low p values. Below are some interpretations of the most significant features: \n",
    "\n",
    "\n",
    " - north_south: The expected percent increase in mean price from living in the south to living in the north is 137%\n",
    " - Waterfront: The expected percent increase in mean price from not having waterfront to having waterfront is 134%\n",
    " - Renovated: The expected percent increase in mean price from not having a renovated home to having a renovated home is 19%\n",
    " - Square foot: for every 10% increase in square footage, the price of the home will increase by 3.6% \n",
    " - Grade: The expected percent increase in mean price from increasing the grade on your house by one level is 41%\n",
    " - Condition: The expected percent increase in the mean price from increasing the condition score by one level is 11%\n",
    " - Age: For every year older the home is, the value will decrease by .4%\n",
    " - Season: There is an 8.5% increase in the average price of the house in the Autumn season as opposed to any other season. "
   ]
  },
  {
   "cell_type": "code",
   "execution_count": null,
   "metadata": {},
   "outputs": [],
   "source": [
    "#Create a bar chart that shows the most significant features\n",
    "mpl.style.use('fivethirtyeight')\n",
    "# Display the most significant features\n",
    "mult_model2_coeff = dict(zip(x_cols2,abs(mult_model2.params[1:])))\n",
    "mult_model2_coeff = {k: v for k, v in sorted(mult_model2_coeff.items(), key=lambda item: item[1], reverse = True)}\n",
    "#plt.barh(list(mult_model2_coeff.keys()),list(mult_model2_coeff.values()))\n",
    "\n",
    "fig4, ax = plt.subplots(figsize = (8,8))\n",
    "\n",
    "#Create bar plot\n",
    "sns.barplot(y=list(mult_model2_coeff.keys()),x=list(mult_model2_coeff.values()), color = 'g')\n",
    "\n",
    "ax.set_ylabel(\"Feature\")\n",
    "ax.set_xlabel(\"Model Coefficient\")\n",
    "ax.set_title('Linear Regression Model Features')\n",
    "plt.tight_layout()\n",
    "#Save\n",
    "plt.savefig('images/model_features.png');\n"
   ]
  },
  {
   "cell_type": "markdown",
   "metadata": {},
   "source": [
    "# Conclusions"
   ]
  },
  {
   "cell_type": "markdown",
   "metadata": {},
   "source": [
    "**1. Best to sell homes from the northern side of King County, and waterfront homes.** Our analysis shows that as you move north in King County, homes tend to sell for a higher price. The prices also increase as you get closer to the big cities and closer to the waterfront.\n",
    "\n",
    "**2. Recommend clients to renovate to increase property value.** Our analysis shows that renovated homes sell for a higher price than those homes not renovated. Our models show that renovating to increase square footage increases the sale price and consider adding extra bathrooms in the renovation as that also increases the price. Also consider improving the view of the home when renovating.\n",
    "\n",
    "**3. Consider selling in the late spring, early summer.** The most homes wre sold in May for both years of our data. Homes tend to increase in sales during the spring and tend decrease slightly in the winter months.  "
   ]
  },
  {
   "cell_type": "markdown",
   "metadata": {},
   "source": [
    "# Next Steps"
   ]
  },
  {
   "cell_type": "markdown",
   "metadata": {},
   "source": [
    "Further analyses could provide even more insight into how you will advise your clients to buy or sell thier home. \n",
    "\n",
    "**Better idea of features of a home** Other features that indacate home sale include the color of the home, number of windows, garage indicator, size of garage, pool indicator, size of lawn, full property size, flood indicater, style of the home, among others.\n",
    "\n",
    "**Better idea of neighborhood and surrounding neighborhoods.** We could gather more qualitative data on surrounding neighborhoods such as neighborhood safety, population demographics, and other idicators that may predict the price of a home. You could get an idea of proximity to schools, grocery stores, the city.\n",
    "\n",
    "**Better idea of surrounding counties in Washington.** We could gather data from other counties and compare, county to county, how sale prices fluctuate. Other macro indicators of county could be political climate, social programs, broader proxiimity to major highways. \n",
    "\n",
    "**Better idea of sale history.** We had a fairly good sample of two years worth of data, but it would be good to gather even more years of sales data in King County further solidify reccomendations. There may be features of the home that are better at predicting sale price now then they were 5 or 10 years ago. "
   ]
  },
  {
   "cell_type": "code",
   "execution_count": null,
   "metadata": {},
   "outputs": [],
   "source": []
  }
 ],
 "metadata": {
  "interpreter": {
   "hash": "47f28562226f6f52416099fe68bfccf41aa0de90dda40b57fa288bef16bfb653"
  },
  "kernelspec": {
   "display_name": "Python 3",
   "language": "python",
   "name": "python3"
  },
  "language_info": {
   "codemirror_mode": {
    "name": "ipython",
    "version": 3
   },
   "file_extension": ".py",
   "mimetype": "text/x-python",
   "name": "python",
   "nbconvert_exporter": "python",
   "pygments_lexer": "ipython3",
   "version": "3.8.5"
  }
 },
 "nbformat": 4,
 "nbformat_minor": 4
}
